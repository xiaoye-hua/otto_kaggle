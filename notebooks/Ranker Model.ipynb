{
 "cells": [
  {
   "cell_type": "markdown",
   "metadata": {
    "_cell_guid": "b1076dfc-b9ad-4769-8c92-a6c4dae69d19",
    "_uuid": "8f2839f25d086af736a60e9eeb907d3b93b6e0e5"
   },
   "source": [
    "In this notebook we will train an LGBM Ranker.\n",
    "\n",
    "In his very informative post, [Recommendation Systems for Large Datasets](https://www.kaggle.com/competitions/otto-recommender-system/discussion/364721) [@ravishah1](https://www.kaggle.com/ravishah1) explains how re-ranking models are the industry standard for dealing with datasets like we are presented with in this competition, that is ones with high cardinality categories!\n",
    "\n",
    "Earlier in this competition I shared a notebook [co-visitation matrix - simplified, imprvd logic 🔥](https://www.kaggle.com/code/radek1/co-visitation-matrix-simplified-imprvd-logic) which introduces the co-visitation matrix that can be used for candidate generation and scoring. (to read more about co-visitation matrices and how they work, please see [💡 What is the co-visiation matrix, really?](https://www.kaggle.com/competitions/otto-recommender-system/discussion/365358))\n",
    "\n",
    "Here, we will only look at ranking. I don't expect this notebook to achieve a particularly good score, but it will provide all the low level plumbing needed for training ranking models. One will be able to build on it and improve the result (via for instance adding new candidates generated using co-visitation matrices!).\n",
    "\n",
    "For data processing we will use [polars](https://www.pola.rs/). Polars is a very interesting library that I wanted to try for a very long time now. It is written in Rust and embraces running on multiple cores. And I must say it delivers! I liked the API quite a bit and its speed (though in that department `cudf` would still be my first choice!). I am however not touching my GPU quata on Kaggle just yet as I have a couple of things lined up that I would like to share with you that definitely will require the GPU! 🙂\n",
    "\n",
    "To simplify the code, I am using a version of the dataset that I shared [here](https://www.kaggle.com/datasets/radek1/otto-train-and-test-data-for-local-validation). No need for dealing with `jsonl` files any longer as it's all `parquet` files now! (Specifically, I am using a version of this dataset that I preprared for local validation [in this notebook](https://www.kaggle.com/code/radek1/a-robust-local-validation-framework).)\n",
    "\n",
    "## Other resources you might find useful:\n",
    "\n",
    "\n",
    "* [💡 [2 methods] How-to ensemble predictions 🏅🏅🏅](https://www.kaggle.com/code/radek1/2-methods-how-to-ensemble-predictions)\n",
    "* [📖 What are some good resources to learn about how gradient-boosted tree ranking models work?](https://www.kaggle.com/competitions/otto-recommender-system/discussion/366477)\n",
    "* [💡What is a good initial goal in the competition? How to improve beyond it? 📈](https://www.kaggle.com/competitions/otto-recommender-system/discussion/368685)\n",
    "* [💡How to improve the results of your Approximate Nearest Neighbor search! (annoy)](https://www.kaggle.com/competitions/otto-recommender-system/discussion/368385)\n",
    "* [from zero to 60 in 2 seconds or less 🏎️🚓🚓🚓](https://www.kaggle.com/competitions/otto-recommender-system/discussion/367058)\n"
   ]
  },
  {
   "cell_type": "markdown",
   "metadata": {},
   "source": [
    "# Packages "
   ]
  },
  {
   "cell_type": "code",
   "execution_count": 1,
   "metadata": {
    "scrolled": true
   },
   "outputs": [],
   "source": [
    "# ! pip install pandas"
   ]
  },
  {
   "cell_type": "code",
   "execution_count": 2,
   "metadata": {},
   "outputs": [],
   "source": [
    "import polars as pl\n",
    "import glob\n",
    "import pandas as pd\n",
    "import gc\n",
    "from sklearn.pipeline import Pipeline\n",
    "import joblib\n",
    "import os\n",
    "import lightgbm"
   ]
  },
  {
   "cell_type": "markdown",
   "metadata": {},
   "source": [
    "# Config "
   ]
  },
  {
   "cell_type": "code",
   "execution_count": 7,
   "metadata": {},
   "outputs": [],
   "source": [
    "debug = True\n",
    "\n",
    "\n",
    "final_submission = False\n",
    "candidate_model_version = 'candidate_v2_train1_data'\n",
    "estimator = 40\n",
    "rerank_model_version = f'rerank_v1_{estimator}'\n",
    "# if True, val data are left for val; otherwise, there's no validation data\n",
    "for_local_val = True\n",
    "\n",
    "train_data_dir = '../submission/candidate_for_rerank_training/'\n",
    "val_data_dir = '../submission/candidate_for_validation/'\n",
    "\n",
    "type2id = {\"clicks\": 0, \"carts\": 1, \"orders\": 2}\n",
    "# id2type = dict(zip(type2id.values(), type2id.keys()))\n",
    "model_path = f'../model_training/{rerank_model_version}'\n",
    "if not os.path.isdir(model_path):\n",
    "    os.makedirs(model_path)\n",
    "model_file = os.path.join(model_path, 'ranker.pkl')\n",
    "\n",
    "\n",
    "if final_submission:\n",
    "    test_candidate_file = os.path.join('../submission/final_submission_candiate/', f'{candidate_model_version}_test_submission.csv')\n",
    "    final_submission_file = os.path.join('../submission/final_submission', f'{rerank_model_version}_test_submission.csv')\n",
    "else:\n",
    "    test_candidate_file = os.path.join('../submission/candidate_for_validation/', f'{candidate_model_version}_test_submission.csv')\n",
    "    final_submission_file = os.path.join('../submission/submission_for_validation', f'{rerank_model_version}_test_submission.csv')\n",
    "    \n",
    "\n",
    "\n",
    "\n",
    "feature_cols = ['aid', 'type', 'action_num_reverse_chrono', 'session_length', 'log_recency_score',\n",
    "#                 'type_weighted_log_recency_score'\n",
    "               ]\n",
    "target = 'gt'\n",
    "\n",
    "\n",
    "debug_candidate_file = '../submission/debug/debug_submission.csv'"
   ]
  },
  {
   "cell_type": "code",
   "execution_count": 8,
   "metadata": {},
   "outputs": [
    {
     "data": {
      "text/plain": [
       "'rerank_v1_40'"
      ]
     },
     "execution_count": 8,
     "metadata": {},
     "output_type": "execute_result"
    }
   ],
   "source": [
    "rerank_model_version"
   ]
  },
  {
   "cell_type": "code",
   "execution_count": 9,
   "metadata": {},
   "outputs": [
    {
     "data": {
      "text/plain": [
       "'../model_training/rerank_v1_40/ranker.pkl'"
      ]
     },
     "execution_count": 9,
     "metadata": {},
     "output_type": "execute_result"
    }
   ],
   "source": [
    "model_file"
   ]
  },
  {
   "cell_type": "code",
   "execution_count": 10,
   "metadata": {},
   "outputs": [],
   "source": [
    "train_data_path = os.path.join(train_data_dir, f'{candidate_model_version}_test_submission.csv')\n",
    "val_data_path = os.path.join(val_data_dir, f'{candidate_model_version}_test_submission.csv')\n",
    "\n",
    "if for_local_val:\n",
    "    train_label_path = '../data/parquet/train2_label/*.parquet'\n",
    "else:\n",
    "    train_label_path = '../data/parquet/val_label/*.parquet'\n",
    "    \n",
    "if debug:\n",
    "    test = pl.read_csv(debug_candidate_file)\n",
    "else:\n",
    "    test = pl.read_csv(test_candidate_file)"
   ]
  },
  {
   "cell_type": "code",
   "execution_count": 11,
   "metadata": {},
   "outputs": [
    {
     "data": {
      "text/plain": [
       "'../submission/candidate_for_rerank_training/candidate_v2_train1_data_test_submission.csv'"
      ]
     },
     "execution_count": 11,
     "metadata": {},
     "output_type": "execute_result"
    }
   ],
   "source": [
    "train_data_path"
   ]
  },
  {
   "cell_type": "code",
   "execution_count": 12,
   "metadata": {},
   "outputs": [
    {
     "data": {
      "text/plain": [
       "'../submission/candidate_for_validation/candidate_v2_train1_data_test_submission.csv'"
      ]
     },
     "execution_count": 12,
     "metadata": {},
     "output_type": "execute_result"
    }
   ],
   "source": [
    "val_data_path"
   ]
  },
  {
   "cell_type": "code",
   "execution_count": 13,
   "metadata": {},
   "outputs": [
    {
     "data": {
      "text/plain": [
       "'../data/parquet/train2_label/*.parquet'"
      ]
     },
     "execution_count": 13,
     "metadata": {},
     "output_type": "execute_result"
    }
   ],
   "source": [
    "train_label_path"
   ]
  },
  {
   "cell_type": "code",
   "execution_count": 14,
   "metadata": {},
   "outputs": [],
   "source": [
    "# ! head -n 10000 {train_data_path} > ../submission/debug/debug_submission.csv"
   ]
  },
  {
   "cell_type": "code",
   "execution_count": 15,
   "metadata": {},
   "outputs": [],
   "source": [
    "if debug: \n",
    "    train = pl.read_csv(debug_candidate_file)\n",
    "else:\n",
    "#     train = pl.read_csv('../data/val_candidates.csv')\n",
    "    train = pl.read_csv(train_data_path)\n",
    "train_labels = pl.read_parquet(train_label_path)\n",
    "test_label_file = '../data/parquet/val_label/*.parquet'\n",
    "\n",
    "test_labels = pl.read_parquet(test_label_file)"
   ]
  },
  {
   "cell_type": "code",
   "execution_count": 16,
   "metadata": {
    "scrolled": true
   },
   "outputs": [
    {
     "data": {
      "text/plain": [
       "(9999, 2)"
      ]
     },
     "execution_count": 16,
     "metadata": {},
     "output_type": "execute_result"
    }
   ],
   "source": [
    "train.shape"
   ]
  },
  {
   "cell_type": "code",
   "execution_count": 17,
   "metadata": {},
   "outputs": [
    {
     "data": {
      "text/plain": [
       "(2738344, 3)"
      ]
     },
     "execution_count": 17,
     "metadata": {},
     "output_type": "execute_result"
    }
   ],
   "source": [
    "train_labels.shape"
   ]
  },
  {
   "cell_type": "code",
   "execution_count": 18,
   "metadata": {},
   "outputs": [
    {
     "data": {
      "text/plain": [
       "(2189204, 3)"
      ]
     },
     "execution_count": 18,
     "metadata": {},
     "output_type": "execute_result"
    }
   ],
   "source": [
    "test_labels.shape"
   ]
  },
  {
   "cell_type": "code",
   "execution_count": 20,
   "metadata": {},
   "outputs": [
    {
     "data": {
      "text/html": [
       "<div>\n",
       "<style scoped>\n",
       "    .dataframe tbody tr th:only-of-type {\n",
       "        vertical-align: middle;\n",
       "    }\n",
       "\n",
       "    .dataframe tbody tr th {\n",
       "        vertical-align: top;\n",
       "    }\n",
       "\n",
       "    .dataframe thead th {\n",
       "        text-align: right;\n",
       "    }\n",
       "\n",
       "    .dataframe td {\n",
       "        white-space: pre;\n",
       "    }\n",
       "\n",
       "    .dataframe td {\n",
       "        padding-top: 0;\n",
       "    }\n",
       "\n",
       "    .dataframe td {\n",
       "        padding-bottom: 0;\n",
       "    }\n",
       "\n",
       "    .dataframe td {\n",
       "        line-height: 95%;\n",
       "    }\n",
       "</style>\n",
       "<table border=\"1\" class=\"dataframe\">\n",
       "<small>shape: (5, 2)</small>\n",
       "<thead>\n",
       "<tr>\n",
       "<th>\n",
       "session_type\n",
       "</th>\n",
       "<th>\n",
       "labels\n",
       "</th>\n",
       "</tr>\n",
       "<tr>\n",
       "<td>\n",
       "str\n",
       "</td>\n",
       "<td>\n",
       "str\n",
       "</td>\n",
       "</tr>\n",
       "</thead>\n",
       "<tbody>\n",
       "<tr>\n",
       "<td>\n",
       "&quot;8643220_clicks...\n",
       "</td>\n",
       "<td>\n",
       "&quot;573273 399315 ...\n",
       "</td>\n",
       "</tr>\n",
       "<tr>\n",
       "<td>\n",
       "&quot;8643221_clicks...\n",
       "</td>\n",
       "<td>\n",
       "&quot;921137 1543291...\n",
       "</td>\n",
       "</tr>\n",
       "<tr>\n",
       "<td>\n",
       "&quot;8643222_clicks...\n",
       "</td>\n",
       "<td>\n",
       "&quot;1037630 930597...\n",
       "</td>\n",
       "</tr>\n",
       "<tr>\n",
       "<td>\n",
       "&quot;8643223_clicks...\n",
       "</td>\n",
       "<td>\n",
       "&quot;1811963 206418...\n",
       "</td>\n",
       "</tr>\n",
       "<tr>\n",
       "<td>\n",
       "&quot;8643224_clicks...\n",
       "</td>\n",
       "<td>\n",
       "&quot;778561 1106262...\n",
       "</td>\n",
       "</tr>\n",
       "</tbody>\n",
       "</table>\n",
       "</div>"
      ],
      "text/plain": [
       "shape: (5, 2)\n",
       "┌────────────────┬─────────────────────────────────────┐\n",
       "│ session_type   ┆ labels                              │\n",
       "│ ---            ┆ ---                                 │\n",
       "│ str            ┆ str                                 │\n",
       "╞════════════════╪═════════════════════════════════════╡\n",
       "│ 8643220_clicks ┆ 573273 399315 1308823 1768884 13... │\n",
       "│ 8643221_clicks ┆ 921137 1543291 1797158 1061239 1... │\n",
       "│ 8643222_clicks ┆ 1037630 930597 1414418 542022 13... │\n",
       "│ 8643223_clicks ┆ 1811963 206418 986164 390163 634... │\n",
       "│ 8643224_clicks ┆ 778561 1106262 1706288 1502227 9... │\n",
       "└────────────────┴─────────────────────────────────────┘"
      ]
     },
     "execution_count": 20,
     "metadata": {},
     "output_type": "execute_result"
    }
   ],
   "source": [
    "train.head()"
   ]
  },
  {
   "cell_type": "markdown",
   "metadata": {},
   "source": [
    "# Data Processing"
   ]
  },
  {
   "cell_type": "markdown",
   "metadata": {},
   "source": [
    "# Function"
   ]
  },
  {
   "cell_type": "code",
   "execution_count": 15,
   "metadata": {},
   "outputs": [],
   "source": [
    "def get_session(row):\n",
    "    session = row\n",
    "#     print(session)\n",
    "    return session.split('_')[0]\n",
    "def get_type(row):\n",
    "    session = row\n",
    "#     print(session)\n",
    "    return session.split('_')[1]\n",
    "def data_preprocess(train):\n",
    "    return train.with_columns(\n",
    "                [\n",
    "                    pl.col('labels').str.split(' '),\n",
    "        #             pl.col('session_type').str.split('_').map(lambda s: s[0]),\n",
    "                    pl.col('session_type').apply(lambda s: get_session(s)).alias('session'),\n",
    "                    pl.col('session_type').apply(lambda s: get_type(s)).alias('type')\n",
    "                ]\n",
    "            ).explode('labels').with_columns(\n",
    "                [\n",
    "                    pl.col('labels').cast(pl.datatypes.Int32).alias('aid'),\n",
    "                     pl.col('session').cast(pl.datatypes.Int32),\n",
    "                    pl.col('type').apply(lambda x: type2id[x])\n",
    "                ]\n",
    "            ).drop(['session_type', 'labels']).with_columns(\n",
    "                [\n",
    "                    pl.col('session').cast(pl.datatypes.Int32),\n",
    "                    pl.col('type').cast(pl.datatypes.UInt8),\n",
    "                    pl.col('aid').cast(pl.datatypes.Int32)\n",
    "                ]\n",
    "            )\n",
    "    \n",
    "\n",
    "def add_action_num_reverse_chrono(df):\n",
    "    return df.select([\n",
    "        pl.col('*'),\n",
    "        pl.col('session').cumcount().reverse().over('session').alias('action_num_reverse_chrono')\n",
    "    ])\n",
    "\n",
    "def add_session_length(df):\n",
    "    return df.select([\n",
    "        pl.col('*'),\n",
    "        pl.col('session').count().over('session').alias('session_length')\n",
    "    ])\n",
    "\n",
    "def add_log_recency_score(df):\n",
    "    linear_interpolation = 0.1 + ((1-0.1) / (df['session_length']-1)) * (df['session_length']-df['action_num_reverse_chrono']-1)\n",
    "    return df.with_columns(pl.Series(2**linear_interpolation - 1).alias('log_recency_score')).fill_nan(1)\n",
    "\n",
    "# def add_type_weighted_log_recency_score(df):\n",
    "#     type_weights = {0:1, 1:6, 2:3}\n",
    "#     type_weighted_log_recency_score = pl.Series(df['log_recency_score'] / df['type'].apply(lambda x: type_weights[x]))\n",
    "#     return df.with_column(type_weighted_log_recency_score.alias('type_weighted_log_recency_score'))\n",
    "\n",
    "def add_train_label(df, train_labels=train_labels):\n",
    "    train = df\n",
    "    train_labels = train_labels.explode('ground_truth').with_columns([\n",
    "        pl.col('ground_truth').alias('aid'),\n",
    "        pl.col('type').apply(lambda x: type2id[x])\n",
    "    ])[['session', 'type', 'aid']]\n",
    "\n",
    "    train_labels = train_labels.with_columns([\n",
    "        pl.col('session').cast(pl.datatypes.Int32),\n",
    "        pl.col('type').cast(pl.datatypes.UInt8),\n",
    "        pl.col('aid').cast(pl.datatypes.Int32)\n",
    "    ])\n",
    "    train_labels = train_labels.with_column(pl.lit(1).alias('gt'))\n",
    "    train = train.join(train_labels, how='left', on=['session', 'type', 'aid']).with_column(pl.col('gt').fill_null(0))\n",
    "    return train\n",
    "\n",
    "def add_test_label(df, train_labels=test_labels):\n",
    "    train = df\n",
    "    train_labels = train_labels.explode('ground_truth').with_columns([\n",
    "        pl.col('ground_truth').alias('aid'),\n",
    "        pl.col('type').apply(lambda x: type2id[x])\n",
    "    ])[['session', 'type', 'aid']]\n",
    "\n",
    "    train_labels = train_labels.with_columns([\n",
    "        pl.col('session').cast(pl.datatypes.Int32),\n",
    "        pl.col('type').cast(pl.datatypes.UInt8),\n",
    "        pl.col('aid').cast(pl.datatypes.Int32)\n",
    "    ])\n",
    "    train_labels = train_labels.with_column(pl.lit(1).alias('gt'))\n",
    "    train = train.join(train_labels, how='left', on=['session', 'type', 'aid']).with_column(pl.col('gt').fill_null(0))\n",
    "    return train\n",
    "\n",
    "def apply(df, pipeline):\n",
    "    for f in pipeline:\n",
    "        df = f(df)\n",
    "    return df\n",
    "\n",
    "train_pipeline = [ data_preprocess, add_action_num_reverse_chrono, add_session_length, add_log_recency_score, \n",
    "            add_train_label\n",
    "           ]\n",
    "test_pipeline = [ data_preprocess, add_action_num_reverse_chrono, add_session_length, add_log_recency_score, \n",
    "            add_test_label\n",
    "           ]"
   ]
  },
  {
   "cell_type": "markdown",
   "metadata": {},
   "source": [
    "# Codes "
   ]
  },
  {
   "cell_type": "code",
   "execution_count": 16,
   "metadata": {},
   "outputs": [],
   "source": [
    "# # train['labels'] = \n",
    "# # train = \n",
    "# train = (\n",
    "#     train.with_columns(\n",
    "#         [\n",
    "#             pl.col('session').alias('session_type')\n",
    "#         ])\n",
    "#     .drop(['session', '__index_level_0__'])\n",
    "#     .with_columns(\n",
    "#         [\n",
    "# #             pl.col('labels').str.split(' '),\n",
    "# #             pl.col('session_type').str.split('_').map(lambda s: s[0])\n",
    "#             pl.col('session_type').apply(lambda s: get_session(s)).alias('session'),\n",
    "#             pl.col('session_type').apply(lambda s: get_type(s)).alias('type')\n",
    "# #             pl.col(\"session_type\").arr().get(0).alias(\"a\"),\n",
    "#         ]\n",
    "#     )\n",
    "#     .explode('labels')\n",
    "#     .with_columns(\n",
    "#         [\n",
    "#             pl.col('labels').cast(pl.datatypes.Int32).alias('aid'),\n",
    "#              pl.col('session').cast(pl.datatypes.Int32),\n",
    "#             pl.col('type').apply(lambda x: type2id[x])\n",
    "#         ]\n",
    "#     )\n",
    "#     .drop(['session_type', 'labels'])\n",
    "#     .with_columns(\n",
    "#         [\n",
    "#             pl.col('session').cast(pl.datatypes.Int32),\n",
    "#             pl.col('type').cast(pl.datatypes.UInt8),\n",
    "#             pl.col('aid').cast(pl.datatypes.Int32)\n",
    "#         ]\n",
    "#     )\n",
    "    \n",
    "# )\n",
    "# # .with_columns(\n",
    "# #     [\n",
    "# #         pl.col('session_type').alias('new')\n",
    "# #     ]\n",
    "# # )\n",
    "# # .with_columns(\n",
    "# #     [\n",
    "# #         pl.col('session_type').get(0)\n",
    "# #     ]\n",
    "# # )"
   ]
  },
  {
   "cell_type": "code",
   "execution_count": 32,
   "metadata": {},
   "outputs": [
    {
     "data": {
      "text/plain": [
       "(9999, 2)"
      ]
     },
     "execution_count": 32,
     "metadata": {},
     "output_type": "execute_result"
    }
   ],
   "source": [
    "train.shape"
   ]
  },
  {
   "cell_type": "code",
   "execution_count": 33,
   "metadata": {},
   "outputs": [
    {
     "data": {
      "text/plain": [
       "(2738344, 3)"
      ]
     },
     "execution_count": 33,
     "metadata": {},
     "output_type": "execute_result"
    }
   ],
   "source": [
    "train_labels.shape"
   ]
  },
  {
   "cell_type": "code",
   "execution_count": 35,
   "metadata": {},
   "outputs": [
    {
     "data": {
      "text/html": [
       "<div>\n",
       "<style scoped>\n",
       "    .dataframe tbody tr th:only-of-type {\n",
       "        vertical-align: middle;\n",
       "    }\n",
       "\n",
       "    .dataframe tbody tr th {\n",
       "        vertical-align: top;\n",
       "    }\n",
       "\n",
       "    .dataframe thead th {\n",
       "        text-align: right;\n",
       "    }\n",
       "\n",
       "    .dataframe td {\n",
       "        white-space: pre;\n",
       "    }\n",
       "\n",
       "    .dataframe td {\n",
       "        padding-top: 0;\n",
       "    }\n",
       "\n",
       "    .dataframe td {\n",
       "        padding-bottom: 0;\n",
       "    }\n",
       "\n",
       "    .dataframe td {\n",
       "        line-height: 95%;\n",
       "    }\n",
       "</style>\n",
       "<table border=\"1\" class=\"dataframe\">\n",
       "<small>shape: (5, 2)</small>\n",
       "<thead>\n",
       "<tr>\n",
       "<th>\n",
       "session_type\n",
       "</th>\n",
       "<th>\n",
       "labels\n",
       "</th>\n",
       "</tr>\n",
       "<tr>\n",
       "<td>\n",
       "str\n",
       "</td>\n",
       "<td>\n",
       "str\n",
       "</td>\n",
       "</tr>\n",
       "</thead>\n",
       "<tbody>\n",
       "<tr>\n",
       "<td>\n",
       "&quot;8643220_clicks...\n",
       "</td>\n",
       "<td>\n",
       "&quot;573273 399315 ...\n",
       "</td>\n",
       "</tr>\n",
       "<tr>\n",
       "<td>\n",
       "&quot;8643221_clicks...\n",
       "</td>\n",
       "<td>\n",
       "&quot;921137 1543291...\n",
       "</td>\n",
       "</tr>\n",
       "<tr>\n",
       "<td>\n",
       "&quot;8643222_clicks...\n",
       "</td>\n",
       "<td>\n",
       "&quot;1037630 930597...\n",
       "</td>\n",
       "</tr>\n",
       "<tr>\n",
       "<td>\n",
       "&quot;8643223_clicks...\n",
       "</td>\n",
       "<td>\n",
       "&quot;1811963 206418...\n",
       "</td>\n",
       "</tr>\n",
       "<tr>\n",
       "<td>\n",
       "&quot;8643224_clicks...\n",
       "</td>\n",
       "<td>\n",
       "&quot;778561 1106262...\n",
       "</td>\n",
       "</tr>\n",
       "</tbody>\n",
       "</table>\n",
       "</div>"
      ],
      "text/plain": [
       "shape: (5, 2)\n",
       "┌────────────────┬─────────────────────────────────────┐\n",
       "│ session_type   ┆ labels                              │\n",
       "│ ---            ┆ ---                                 │\n",
       "│ str            ┆ str                                 │\n",
       "╞════════════════╪═════════════════════════════════════╡\n",
       "│ 8643220_clicks ┆ 573273 399315 1308823 1768884 13... │\n",
       "│ 8643221_clicks ┆ 921137 1543291 1797158 1061239 1... │\n",
       "│ 8643222_clicks ┆ 1037630 930597 1414418 542022 13... │\n",
       "│ 8643223_clicks ┆ 1811963 206418 986164 390163 634... │\n",
       "│ 8643224_clicks ┆ 778561 1106262 1706288 1502227 9... │\n",
       "└────────────────┴─────────────────────────────────────┘"
      ]
     },
     "execution_count": 35,
     "metadata": {},
     "output_type": "execute_result"
    }
   ],
   "source": [
    "train.head()"
   ]
  },
  {
   "cell_type": "code",
   "execution_count": 40,
   "metadata": {},
   "outputs": [
    {
     "data": {
      "text/html": [
       "<div>\n",
       "<style scoped>\n",
       "    .dataframe tbody tr th:only-of-type {\n",
       "        vertical-align: middle;\n",
       "    }\n",
       "\n",
       "    .dataframe tbody tr th {\n",
       "        vertical-align: top;\n",
       "    }\n",
       "\n",
       "    .dataframe thead th {\n",
       "        text-align: right;\n",
       "    }\n",
       "\n",
       "    .dataframe td {\n",
       "        white-space: pre;\n",
       "    }\n",
       "\n",
       "    .dataframe td {\n",
       "        padding-top: 0;\n",
       "    }\n",
       "\n",
       "    .dataframe td {\n",
       "        padding-bottom: 0;\n",
       "    }\n",
       "\n",
       "    .dataframe td {\n",
       "        line-height: 95%;\n",
       "    }\n",
       "</style>\n",
       "<table border=\"1\" class=\"dataframe\">\n",
       "<small>shape: (9999, 1)</small>\n",
       "<thead>\n",
       "<tr>\n",
       "<th>\n",
       "labels\n",
       "</th>\n",
       "</tr>\n",
       "<tr>\n",
       "<td>\n",
       "str\n",
       "</td>\n",
       "</tr>\n",
       "</thead>\n",
       "<tbody>\n",
       "<tr>\n",
       "<td>\n",
       "&quot;573273 399315 ...\n",
       "</td>\n",
       "</tr>\n",
       "<tr>\n",
       "<td>\n",
       "&quot;921137 1543291...\n",
       "</td>\n",
       "</tr>\n",
       "<tr>\n",
       "<td>\n",
       "&quot;1037630 930597...\n",
       "</td>\n",
       "</tr>\n",
       "<tr>\n",
       "<td>\n",
       "&quot;1811963 206418...\n",
       "</td>\n",
       "</tr>\n",
       "<tr>\n",
       "<td>\n",
       "&quot;778561 1106262...\n",
       "</td>\n",
       "</tr>\n",
       "<tr>\n",
       "<td>\n",
       "&quot;655488 1566421...\n",
       "</td>\n",
       "</tr>\n",
       "<tr>\n",
       "<td>\n",
       "&quot;1845885 171073...\n",
       "</td>\n",
       "</tr>\n",
       "<tr>\n",
       "<td>\n",
       "&quot;436885 460141 ...\n",
       "</td>\n",
       "</tr>\n",
       "<tr>\n",
       "<td>\n",
       "&quot;791627 613637 ...\n",
       "</td>\n",
       "</tr>\n",
       "<tr>\n",
       "<td>\n",
       "&quot;1696741 103011...\n",
       "</td>\n",
       "</tr>\n",
       "<tr>\n",
       "<td>\n",
       "&quot;151743 1321318...\n",
       "</td>\n",
       "</tr>\n",
       "<tr>\n",
       "<td>\n",
       "&quot;1370226 887169...\n",
       "</td>\n",
       "</tr>\n",
       "<tr>\n",
       "<td>\n",
       "...\n",
       "</td>\n",
       "</tr>\n",
       "<tr>\n",
       "<td>\n",
       "&quot;1545715 576767...\n",
       "</td>\n",
       "</tr>\n",
       "<tr>\n",
       "<td>\n",
       "&quot;313526 1461779...\n",
       "</td>\n",
       "</tr>\n",
       "<tr>\n",
       "<td>\n",
       "&quot;33534 841493 1...\n",
       "</td>\n",
       "</tr>\n",
       "<tr>\n",
       "<td>\n",
       "&quot;488375 1451152...\n",
       "</td>\n",
       "</tr>\n",
       "<tr>\n",
       "<td>\n",
       "&quot;1465334 397032...\n",
       "</td>\n",
       "</tr>\n",
       "<tr>\n",
       "<td>\n",
       "&quot;1698879 176626...\n",
       "</td>\n",
       "</tr>\n",
       "<tr>\n",
       "<td>\n",
       "&quot;1019736 119722...\n",
       "</td>\n",
       "</tr>\n",
       "<tr>\n",
       "<td>\n",
       "&quot;1750274 110982...\n",
       "</td>\n",
       "</tr>\n",
       "<tr>\n",
       "<td>\n",
       "&quot;1783990 179323...\n",
       "</td>\n",
       "</tr>\n",
       "<tr>\n",
       "<td>\n",
       "&quot;1611114 145304...\n",
       "</td>\n",
       "</tr>\n",
       "<tr>\n",
       "<td>\n",
       "&quot;127864 1460571...\n",
       "</td>\n",
       "</tr>\n",
       "<tr>\n",
       "<td>\n",
       "&quot;687987 1165379...\n",
       "</td>\n",
       "</tr>\n",
       "</tbody>\n",
       "</table>\n",
       "</div>"
      ],
      "text/plain": [
       "shape: (9999, 1)\n",
       "┌─────────────────────────────────────┐\n",
       "│ labels                              │\n",
       "│ ---                                 │\n",
       "│ str                                 │\n",
       "╞═════════════════════════════════════╡\n",
       "│ 573273 399315 1308823 1768884 13... │\n",
       "│ 921137 1543291 1797158 1061239 1... │\n",
       "│ 1037630 930597 1414418 542022 13... │\n",
       "│ 1811963 206418 986164 390163 634... │\n",
       "│ ...                                 │\n",
       "│ 1783990 1793239 265505 1023703 1... │\n",
       "│ 1611114 1453040 568209 1228311 8... │\n",
       "│ 127864 1460571 399992 1066416 95... │\n",
       "│ 687987 1165379 689372 1260272 62... │\n",
       "└─────────────────────────────────────┘"
      ]
     },
     "execution_count": 40,
     "metadata": {},
     "output_type": "execute_result"
    }
   ],
   "source": [
    "train.select([\n",
    "        pl.col('labels')    ])"
   ]
  },
  {
   "cell_type": "code",
   "execution_count": 38,
   "metadata": {
    "scrolled": true
   },
   "outputs": [
    {
     "ename": "NotFoundError",
     "evalue": "lables",
     "output_type": "error",
     "traceback": [
      "\u001b[0;31m---------------------------------------------------------------------------\u001b[0m",
      "\u001b[0;31mNotFoundError\u001b[0m                             Traceback (most recent call last)",
      "Cell \u001b[0;32mIn[38], line 1\u001b[0m\n\u001b[0;32m----> 1\u001b[0m \u001b[43mtrain\u001b[49m\u001b[38;5;241;43m.\u001b[39;49m\u001b[43mselect\u001b[49m\u001b[43m(\u001b[49m\u001b[43m[\u001b[49m\u001b[43mpl\u001b[49m\u001b[38;5;241;43m.\u001b[39;49m\u001b[43mcol\u001b[49m\u001b[43m(\u001b[49m\u001b[38;5;124;43m'\u001b[39;49m\u001b[38;5;124;43mlables\u001b[39;49m\u001b[38;5;124;43m'\u001b[39;49m\u001b[43m)\u001b[49m\u001b[43m]\u001b[49m\u001b[43m)\u001b[49m\n",
      "File \u001b[0;32m~/miniconda3/envs/recsys-dataset/lib/python3.9/site-packages/polars/internals/dataframe/frame.py:5450\u001b[0m, in \u001b[0;36mDataFrame.select\u001b[0;34m(self, exprs)\u001b[0m\n\u001b[1;32m   5362\u001b[0m \u001b[38;5;28;01mdef\u001b[39;00m \u001b[38;5;21mselect\u001b[39m(\n\u001b[1;32m   5363\u001b[0m     \u001b[38;5;28mself\u001b[39m: DF,\n\u001b[1;32m   5364\u001b[0m     exprs: (\n\u001b[0;32m   (...)\u001b[0m\n\u001b[1;32m   5369\u001b[0m     ),\n\u001b[1;32m   5370\u001b[0m ) \u001b[38;5;241m-\u001b[39m\u001b[38;5;241m>\u001b[39m DF:\n\u001b[1;32m   5371\u001b[0m \u001b[38;5;250m    \u001b[39m\u001b[38;5;124;03m\"\"\"\u001b[39;00m\n\u001b[1;32m   5372\u001b[0m \u001b[38;5;124;03m    Select columns from this DataFrame.\u001b[39;00m\n\u001b[1;32m   5373\u001b[0m \n\u001b[0;32m   (...)\u001b[0m\n\u001b[1;32m   5447\u001b[0m \n\u001b[1;32m   5448\u001b[0m \u001b[38;5;124;03m    \"\"\"\u001b[39;00m\n\u001b[1;32m   5449\u001b[0m     \u001b[38;5;28;01mreturn\u001b[39;00m \u001b[38;5;28mself\u001b[39m\u001b[38;5;241m.\u001b[39m_from_pydf(\n\u001b[0;32m-> 5450\u001b[0m         \u001b[38;5;28;43mself\u001b[39;49m\u001b[38;5;241;43m.\u001b[39;49m\u001b[43mlazy\u001b[49m\u001b[43m(\u001b[49m\u001b[43m)\u001b[49m\u001b[38;5;241;43m.\u001b[39;49m\u001b[43mselect\u001b[49m\u001b[43m(\u001b[49m\u001b[43mexprs\u001b[49m\u001b[43m)\u001b[49m\u001b[38;5;241;43m.\u001b[39;49m\u001b[43mcollect\u001b[49m\u001b[43m(\u001b[49m\u001b[43mno_optimization\u001b[49m\u001b[38;5;241;43m=\u001b[39;49m\u001b[38;5;28;43;01mTrue\u001b[39;49;00m\u001b[43m)\u001b[49m\u001b[38;5;241m.\u001b[39m_df\n\u001b[1;32m   5451\u001b[0m     )\n",
      "File \u001b[0;32m~/miniconda3/envs/recsys-dataset/lib/python3.9/site-packages/polars/utils.py:391\u001b[0m, in \u001b[0;36mdeprecated_alias.<locals>.deco.<locals>.wrapper\u001b[0;34m(*args, **kwargs)\u001b[0m\n\u001b[1;32m    388\u001b[0m \u001b[38;5;129m@functools\u001b[39m\u001b[38;5;241m.\u001b[39mwraps(fn)\n\u001b[1;32m    389\u001b[0m \u001b[38;5;28;01mdef\u001b[39;00m \u001b[38;5;21mwrapper\u001b[39m(\u001b[38;5;241m*\u001b[39margs: P\u001b[38;5;241m.\u001b[39margs, \u001b[38;5;241m*\u001b[39m\u001b[38;5;241m*\u001b[39mkwargs: P\u001b[38;5;241m.\u001b[39mkwargs) \u001b[38;5;241m-\u001b[39m\u001b[38;5;241m>\u001b[39m T:\n\u001b[1;32m    390\u001b[0m     _rename_kwargs(fn\u001b[38;5;241m.\u001b[39m\u001b[38;5;18m__name__\u001b[39m, kwargs, aliases)\n\u001b[0;32m--> 391\u001b[0m     \u001b[38;5;28;01mreturn\u001b[39;00m \u001b[43mfn\u001b[49m\u001b[43m(\u001b[49m\u001b[38;5;241;43m*\u001b[39;49m\u001b[43margs\u001b[49m\u001b[43m,\u001b[49m\u001b[43m \u001b[49m\u001b[38;5;241;43m*\u001b[39;49m\u001b[38;5;241;43m*\u001b[39;49m\u001b[43mkwargs\u001b[49m\u001b[43m)\u001b[49m\n",
      "File \u001b[0;32m~/miniconda3/envs/recsys-dataset/lib/python3.9/site-packages/polars/internals/lazyframe/frame.py:1165\u001b[0m, in \u001b[0;36mLazyFrame.collect\u001b[0;34m(self, type_coercion, predicate_pushdown, projection_pushdown, simplify_expression, no_optimization, slice_pushdown, common_subplan_elimination, streaming)\u001b[0m\n\u001b[1;32m   1154\u001b[0m     common_subplan_elimination \u001b[38;5;241m=\u001b[39m \u001b[38;5;28;01mFalse\u001b[39;00m\n\u001b[1;32m   1156\u001b[0m ldf \u001b[38;5;241m=\u001b[39m \u001b[38;5;28mself\u001b[39m\u001b[38;5;241m.\u001b[39m_ldf\u001b[38;5;241m.\u001b[39moptimization_toggle(\n\u001b[1;32m   1157\u001b[0m     type_coercion,\n\u001b[1;32m   1158\u001b[0m     predicate_pushdown,\n\u001b[0;32m   (...)\u001b[0m\n\u001b[1;32m   1163\u001b[0m     streaming,\n\u001b[1;32m   1164\u001b[0m )\n\u001b[0;32m-> 1165\u001b[0m \u001b[38;5;28;01mreturn\u001b[39;00m pli\u001b[38;5;241m.\u001b[39mwrap_df(\u001b[43mldf\u001b[49m\u001b[38;5;241;43m.\u001b[39;49m\u001b[43mcollect\u001b[49m\u001b[43m(\u001b[49m\u001b[43m)\u001b[49m)\n",
      "\u001b[0;31mNotFoundError\u001b[0m: lables"
     ]
    }
   ],
   "source": [
    "train.select([pl.col('lables')])"
   ]
  },
  {
   "cell_type": "code",
   "execution_count": 24,
   "metadata": {},
   "outputs": [],
   "source": [
    "\n",
    "# train ="
   ]
  },
  {
   "cell_type": "code",
   "execution_count": 25,
   "metadata": {
    "scrolled": true
   },
   "outputs": [
    {
     "data": {
      "text/html": [
       "<div>\n",
       "<style scoped>\n",
       "    .dataframe tbody tr th:only-of-type {\n",
       "        vertical-align: middle;\n",
       "    }\n",
       "\n",
       "    .dataframe tbody tr th {\n",
       "        vertical-align: top;\n",
       "    }\n",
       "\n",
       "    .dataframe thead th {\n",
       "        text-align: right;\n",
       "    }\n",
       "\n",
       "    .dataframe td {\n",
       "        white-space: pre;\n",
       "    }\n",
       "\n",
       "    .dataframe td {\n",
       "        padding-top: 0;\n",
       "    }\n",
       "\n",
       "    .dataframe td {\n",
       "        padding-bottom: 0;\n",
       "    }\n",
       "\n",
       "    .dataframe td {\n",
       "        line-height: 95%;\n",
       "    }\n",
       "</style>\n",
       "<table border=\"1\" class=\"dataframe\">\n",
       "<small>shape: (5, 2)</small>\n",
       "<thead>\n",
       "<tr>\n",
       "<th>\n",
       "session_type\n",
       "</th>\n",
       "<th>\n",
       "labels\n",
       "</th>\n",
       "</tr>\n",
       "<tr>\n",
       "<td>\n",
       "str\n",
       "</td>\n",
       "<td>\n",
       "str\n",
       "</td>\n",
       "</tr>\n",
       "</thead>\n",
       "<tbody>\n",
       "<tr>\n",
       "<td>\n",
       "&quot;8643220_clicks...\n",
       "</td>\n",
       "<td>\n",
       "&quot;573273 399315 ...\n",
       "</td>\n",
       "</tr>\n",
       "<tr>\n",
       "<td>\n",
       "&quot;8643221_clicks...\n",
       "</td>\n",
       "<td>\n",
       "&quot;921137 1543291...\n",
       "</td>\n",
       "</tr>\n",
       "<tr>\n",
       "<td>\n",
       "&quot;8643222_clicks...\n",
       "</td>\n",
       "<td>\n",
       "&quot;1037630 930597...\n",
       "</td>\n",
       "</tr>\n",
       "<tr>\n",
       "<td>\n",
       "&quot;8643223_clicks...\n",
       "</td>\n",
       "<td>\n",
       "&quot;1811963 206418...\n",
       "</td>\n",
       "</tr>\n",
       "<tr>\n",
       "<td>\n",
       "&quot;8643224_clicks...\n",
       "</td>\n",
       "<td>\n",
       "&quot;778561 1106262...\n",
       "</td>\n",
       "</tr>\n",
       "</tbody>\n",
       "</table>\n",
       "</div>"
      ],
      "text/plain": [
       "shape: (5, 2)\n",
       "┌────────────────┬─────────────────────────────────────┐\n",
       "│ session_type   ┆ labels                              │\n",
       "│ ---            ┆ ---                                 │\n",
       "│ str            ┆ str                                 │\n",
       "╞════════════════╪═════════════════════════════════════╡\n",
       "│ 8643220_clicks ┆ 573273 399315 1308823 1768884 13... │\n",
       "│ 8643221_clicks ┆ 921137 1543291 1797158 1061239 1... │\n",
       "│ 8643222_clicks ┆ 1037630 930597 1414418 542022 13... │\n",
       "│ 8643223_clicks ┆ 1811963 206418 986164 390163 634... │\n",
       "│ 8643224_clicks ┆ 778561 1106262 1706288 1502227 9... │\n",
       "└────────────────┴─────────────────────────────────────┘"
      ]
     },
     "execution_count": 25,
     "metadata": {},
     "output_type": "execute_result"
    }
   ],
   "source": [
    "train.head()"
   ]
  },
  {
   "cell_type": "code",
   "execution_count": 26,
   "metadata": {
    "execution": {
     "iopub.execute_input": "2023-01-01T19:58:51.918760Z",
     "iopub.status.busy": "2023-01-01T19:58:51.918379Z",
     "iopub.status.idle": "2023-01-01T19:58:51.926925Z",
     "shell.execute_reply": "2023-01-01T19:58:51.925885Z",
     "shell.execute_reply.started": "2023-01-01T19:58:51.918726Z"
    }
   },
   "outputs": [
    {
     "name": "stdout",
     "output_type": "stream",
     "text": [
      "(9999, 2); (2738344, 3)\n"
     ]
    }
   ],
   "source": [
    "print(f\"{train.shape}; {train_labels.shape}\")"
   ]
  },
  {
   "cell_type": "code",
   "execution_count": 27,
   "metadata": {
    "execution": {
     "iopub.execute_input": "2023-01-01T19:59:23.322676Z",
     "iopub.status.busy": "2023-01-01T19:59:23.322191Z",
     "iopub.status.idle": "2023-01-01T19:59:23.335566Z",
     "shell.execute_reply": "2023-01-01T19:59:23.334192Z",
     "shell.execute_reply.started": "2023-01-01T19:59:23.322635Z"
    }
   },
   "outputs": [
    {
     "data": {
      "text/html": [
       "<div>\n",
       "<style scoped>\n",
       "    .dataframe tbody tr th:only-of-type {\n",
       "        vertical-align: middle;\n",
       "    }\n",
       "\n",
       "    .dataframe tbody tr th {\n",
       "        vertical-align: top;\n",
       "    }\n",
       "\n",
       "    .dataframe thead th {\n",
       "        text-align: right;\n",
       "    }\n",
       "\n",
       "    .dataframe td {\n",
       "        white-space: pre;\n",
       "    }\n",
       "\n",
       "    .dataframe td {\n",
       "        padding-top: 0;\n",
       "    }\n",
       "\n",
       "    .dataframe td {\n",
       "        padding-bottom: 0;\n",
       "    }\n",
       "\n",
       "    .dataframe td {\n",
       "        line-height: 95%;\n",
       "    }\n",
       "</style>\n",
       "<table border=\"1\" class=\"dataframe\">\n",
       "<small>shape: (5, 2)</small>\n",
       "<thead>\n",
       "<tr>\n",
       "<th>\n",
       "session_type\n",
       "</th>\n",
       "<th>\n",
       "labels\n",
       "</th>\n",
       "</tr>\n",
       "<tr>\n",
       "<td>\n",
       "str\n",
       "</td>\n",
       "<td>\n",
       "str\n",
       "</td>\n",
       "</tr>\n",
       "</thead>\n",
       "<tbody>\n",
       "<tr>\n",
       "<td>\n",
       "&quot;8643220_clicks...\n",
       "</td>\n",
       "<td>\n",
       "&quot;573273 399315 ...\n",
       "</td>\n",
       "</tr>\n",
       "<tr>\n",
       "<td>\n",
       "&quot;8643221_clicks...\n",
       "</td>\n",
       "<td>\n",
       "&quot;921137 1543291...\n",
       "</td>\n",
       "</tr>\n",
       "<tr>\n",
       "<td>\n",
       "&quot;8643222_clicks...\n",
       "</td>\n",
       "<td>\n",
       "&quot;1037630 930597...\n",
       "</td>\n",
       "</tr>\n",
       "<tr>\n",
       "<td>\n",
       "&quot;8643223_clicks...\n",
       "</td>\n",
       "<td>\n",
       "&quot;1811963 206418...\n",
       "</td>\n",
       "</tr>\n",
       "<tr>\n",
       "<td>\n",
       "&quot;8643224_clicks...\n",
       "</td>\n",
       "<td>\n",
       "&quot;778561 1106262...\n",
       "</td>\n",
       "</tr>\n",
       "</tbody>\n",
       "</table>\n",
       "</div>"
      ],
      "text/plain": [
       "shape: (5, 2)\n",
       "┌────────────────┬─────────────────────────────────────┐\n",
       "│ session_type   ┆ labels                              │\n",
       "│ ---            ┆ ---                                 │\n",
       "│ str            ┆ str                                 │\n",
       "╞════════════════╪═════════════════════════════════════╡\n",
       "│ 8643220_clicks ┆ 573273 399315 1308823 1768884 13... │\n",
       "│ 8643221_clicks ┆ 921137 1543291 1797158 1061239 1... │\n",
       "│ 8643222_clicks ┆ 1037630 930597 1414418 542022 13... │\n",
       "│ 8643223_clicks ┆ 1811963 206418 986164 390163 634... │\n",
       "│ 8643224_clicks ┆ 778561 1106262 1706288 1502227 9... │\n",
       "└────────────────┴─────────────────────────────────────┘"
      ]
     },
     "execution_count": 27,
     "metadata": {},
     "output_type": "execute_result"
    }
   ],
   "source": [
    "train.head()"
   ]
  },
  {
   "cell_type": "code",
   "execution_count": 28,
   "metadata": {
    "execution": {
     "iopub.execute_input": "2023-01-01T19:59:59.339616Z",
     "iopub.status.busy": "2023-01-01T19:59:59.339112Z",
     "iopub.status.idle": "2023-01-01T19:59:59.345618Z",
     "shell.execute_reply": "2023-01-01T19:59:59.344243Z",
     "shell.execute_reply.started": "2023-01-01T19:59:59.339574Z"
    }
   },
   "outputs": [],
   "source": [
    "# train = train.drop('ts')"
   ]
  },
  {
   "cell_type": "code",
   "execution_count": 29,
   "metadata": {},
   "outputs": [
    {
     "data": {
      "text/html": [
       "<div>\n",
       "<style scoped>\n",
       "    .dataframe tbody tr th:only-of-type {\n",
       "        vertical-align: middle;\n",
       "    }\n",
       "\n",
       "    .dataframe tbody tr th {\n",
       "        vertical-align: top;\n",
       "    }\n",
       "\n",
       "    .dataframe thead th {\n",
       "        text-align: right;\n",
       "    }\n",
       "\n",
       "    .dataframe td {\n",
       "        white-space: pre;\n",
       "    }\n",
       "\n",
       "    .dataframe td {\n",
       "        padding-top: 0;\n",
       "    }\n",
       "\n",
       "    .dataframe td {\n",
       "        padding-bottom: 0;\n",
       "    }\n",
       "\n",
       "    .dataframe td {\n",
       "        line-height: 95%;\n",
       "    }\n",
       "</style>\n",
       "<table border=\"1\" class=\"dataframe\">\n",
       "<small>shape: (5, 2)</small>\n",
       "<thead>\n",
       "<tr>\n",
       "<th>\n",
       "session_type\n",
       "</th>\n",
       "<th>\n",
       "labels\n",
       "</th>\n",
       "</tr>\n",
       "<tr>\n",
       "<td>\n",
       "str\n",
       "</td>\n",
       "<td>\n",
       "str\n",
       "</td>\n",
       "</tr>\n",
       "</thead>\n",
       "<tbody>\n",
       "<tr>\n",
       "<td>\n",
       "&quot;8643220_clicks...\n",
       "</td>\n",
       "<td>\n",
       "&quot;573273 399315 ...\n",
       "</td>\n",
       "</tr>\n",
       "<tr>\n",
       "<td>\n",
       "&quot;8643221_clicks...\n",
       "</td>\n",
       "<td>\n",
       "&quot;921137 1543291...\n",
       "</td>\n",
       "</tr>\n",
       "<tr>\n",
       "<td>\n",
       "&quot;8643222_clicks...\n",
       "</td>\n",
       "<td>\n",
       "&quot;1037630 930597...\n",
       "</td>\n",
       "</tr>\n",
       "<tr>\n",
       "<td>\n",
       "&quot;8643223_clicks...\n",
       "</td>\n",
       "<td>\n",
       "&quot;1811963 206418...\n",
       "</td>\n",
       "</tr>\n",
       "<tr>\n",
       "<td>\n",
       "&quot;8643224_clicks...\n",
       "</td>\n",
       "<td>\n",
       "&quot;778561 1106262...\n",
       "</td>\n",
       "</tr>\n",
       "</tbody>\n",
       "</table>\n",
       "</div>"
      ],
      "text/plain": [
       "shape: (5, 2)\n",
       "┌────────────────┬─────────────────────────────────────┐\n",
       "│ session_type   ┆ labels                              │\n",
       "│ ---            ┆ ---                                 │\n",
       "│ str            ┆ str                                 │\n",
       "╞════════════════╪═════════════════════════════════════╡\n",
       "│ 8643220_clicks ┆ 573273 399315 1308823 1768884 13... │\n",
       "│ 8643221_clicks ┆ 921137 1543291 1797158 1061239 1... │\n",
       "│ 8643222_clicks ┆ 1037630 930597 1414418 542022 13... │\n",
       "│ 8643223_clicks ┆ 1811963 206418 986164 390163 634... │\n",
       "│ 8643224_clicks ┆ 778561 1106262 1706288 1502227 9... │\n",
       "└────────────────┴─────────────────────────────────────┘"
      ]
     },
     "execution_count": 29,
     "metadata": {},
     "output_type": "execute_result"
    }
   ],
   "source": [
    "train.head()"
   ]
  },
  {
   "cell_type": "code",
   "execution_count": null,
   "metadata": {},
   "outputs": [],
   "source": []
  },
  {
   "cell_type": "code",
   "execution_count": null,
   "metadata": {
    "execution": {
     "iopub.execute_input": "2023-01-01T20:00:27.857317Z",
     "iopub.status.busy": "2023-01-01T20:00:27.856656Z",
     "iopub.status.idle": "2023-01-01T20:00:32.863085Z",
     "shell.execute_reply": "2023-01-01T20:00:32.862022Z",
     "shell.execute_reply.started": "2023-01-01T20:00:27.857229Z"
    }
   },
   "outputs": [],
   "source": [
    "train = apply(train, train_pipeline)\n",
    "test = apply(test, test_pipeline)"
   ]
  },
  {
   "cell_type": "code",
   "execution_count": null,
   "metadata": {},
   "outputs": [],
   "source": [
    "train.head()"
   ]
  },
  {
   "cell_type": "markdown",
   "metadata": {},
   "source": [
    "All done!"
   ]
  },
  {
   "cell_type": "code",
   "execution_count": null,
   "metadata": {
    "execution": {
     "iopub.execute_input": "2023-01-01T20:00:32.865494Z",
     "iopub.status.busy": "2023-01-01T20:00:32.864885Z",
     "iopub.status.idle": "2023-01-01T20:00:32.874232Z",
     "shell.execute_reply": "2023-01-01T20:00:32.873016Z",
     "shell.execute_reply.started": "2023-01-01T20:00:32.865459Z"
    }
   },
   "outputs": [],
   "source": [
    "train.head()"
   ]
  },
  {
   "cell_type": "code",
   "execution_count": null,
   "metadata": {
    "execution": {
     "iopub.execute_input": "2023-01-01T20:00:32.876992Z",
     "iopub.status.busy": "2023-01-01T20:00:32.875903Z",
     "iopub.status.idle": "2023-01-01T20:00:32.892976Z",
     "shell.execute_reply": "2023-01-01T20:00:32.891646Z",
     "shell.execute_reply.started": "2023-01-01T20:00:32.876945Z"
    }
   },
   "outputs": [],
   "source": [
    "train.shape"
   ]
  },
  {
   "cell_type": "code",
   "execution_count": null,
   "metadata": {
    "execution": {
     "iopub.execute_input": "2023-01-01T20:00:38.822899Z",
     "iopub.status.busy": "2023-01-01T20:00:38.821191Z",
     "iopub.status.idle": "2023-01-01T20:00:39.021909Z",
     "shell.execute_reply": "2023-01-01T20:00:39.020024Z",
     "shell.execute_reply.started": "2023-01-01T20:00:38.822838Z"
    }
   },
   "outputs": [],
   "source": [
    "train['type'].value_counts()"
   ]
  },
  {
   "cell_type": "markdown",
   "metadata": {},
   "source": [
    "Now we need to process our labels a little bit and merge them onto our train set."
   ]
  },
  {
   "cell_type": "code",
   "execution_count": null,
   "metadata": {},
   "outputs": [],
   "source": [
    "# test_label_file = '../data/parquet/val_label/*.parquet'"
   ]
  },
  {
   "cell_type": "code",
   "execution_count": null,
   "metadata": {},
   "outputs": [],
   "source": [
    "# test_labels = pl.read_parquet(test_label_file)"
   ]
  },
  {
   "cell_type": "code",
   "execution_count": null,
   "metadata": {},
   "outputs": [],
   "source": [
    "# test_labels = test_labels.explode('ground_truth').with_columns([\n",
    "#     pl.col('ground_truth').alias('aid'),\n",
    "#     pl.col('type').apply(lambda x: type2id[x])\n",
    "# ])[['session', 'type', 'aid']]"
   ]
  },
  {
   "cell_type": "code",
   "execution_count": null,
   "metadata": {},
   "outputs": [],
   "source": [
    "test_labels.head()"
   ]
  },
  {
   "cell_type": "code",
   "execution_count": null,
   "metadata": {},
   "outputs": [],
   "source": [
    "test_labels.shape"
   ]
  },
  {
   "cell_type": "code",
   "execution_count": null,
   "metadata": {
    "execution": {
     "iopub.execute_input": "2023-01-01T20:00:44.675819Z",
     "iopub.status.busy": "2023-01-01T20:00:44.675366Z",
     "iopub.status.idle": "2023-01-01T20:00:46.301446Z",
     "shell.execute_reply": "2023-01-01T20:00:46.300139Z",
     "shell.execute_reply.started": "2023-01-01T20:00:44.675782Z"
    }
   },
   "outputs": [],
   "source": [
    "train_labels = train_labels.explode('ground_truth').with_columns([\n",
    "    pl.col('ground_truth').alias('aid'),\n",
    "    pl.col('type').apply(lambda x: type2id[x])\n",
    "])[['session', 'type', 'aid']]\n",
    "\n",
    "train_labels = train_labels.with_columns([\n",
    "    pl.col('session').cast(pl.datatypes.Int32),\n",
    "    pl.col('type').cast(pl.datatypes.UInt8),\n",
    "    pl.col('aid').cast(pl.datatypes.Int32)\n",
    "])\n",
    "train_labels = train_labels.with_column(pl.lit(1).alias('gt'))\n",
    "train = train.join(train_labels, how='left', on=['session', 'type', 'aid']).with_column(pl.col('gt').fill_null(0))"
   ]
  },
  {
   "cell_type": "code",
   "execution_count": null,
   "metadata": {
    "execution": {
     "iopub.execute_input": "2023-01-01T20:00:47.452124Z",
     "iopub.status.busy": "2023-01-01T20:00:47.451693Z",
     "iopub.status.idle": "2023-01-01T20:00:47.459855Z",
     "shell.execute_reply": "2023-01-01T20:00:47.458577Z",
     "shell.execute_reply.started": "2023-01-01T20:00:47.452086Z"
    }
   },
   "outputs": [],
   "source": [
    "train_labels.shape"
   ]
  },
  {
   "cell_type": "code",
   "execution_count": null,
   "metadata": {
    "execution": {
     "iopub.execute_input": "2023-01-01T20:00:48.312896Z",
     "iopub.status.busy": "2023-01-01T20:00:48.312458Z",
     "iopub.status.idle": "2023-01-01T20:00:48.322564Z",
     "shell.execute_reply": "2023-01-01T20:00:48.321382Z",
     "shell.execute_reply.started": "2023-01-01T20:00:48.312861Z"
    }
   },
   "outputs": [],
   "source": [
    "train_labels.head()"
   ]
  },
  {
   "cell_type": "code",
   "execution_count": null,
   "metadata": {
    "execution": {
     "iopub.execute_input": "2023-01-01T20:00:50.210730Z",
     "iopub.status.busy": "2023-01-01T20:00:50.209431Z",
     "iopub.status.idle": "2023-01-01T20:00:50.244774Z",
     "shell.execute_reply": "2023-01-01T20:00:50.243412Z",
     "shell.execute_reply.started": "2023-01-01T20:00:50.210668Z"
    }
   },
   "outputs": [],
   "source": []
  },
  {
   "cell_type": "code",
   "execution_count": null,
   "metadata": {
    "execution": {
     "iopub.execute_input": "2023-01-01T20:01:16.860340Z",
     "iopub.status.busy": "2023-01-01T20:01:16.858905Z",
     "iopub.status.idle": "2023-01-01T20:01:16.869382Z",
     "shell.execute_reply": "2023-01-01T20:01:16.867965Z",
     "shell.execute_reply.started": "2023-01-01T20:01:16.860260Z"
    },
    "scrolled": true
   },
   "outputs": [],
   "source": [
    "train_labels.head()"
   ]
  },
  {
   "cell_type": "code",
   "execution_count": null,
   "metadata": {
    "execution": {
     "iopub.execute_input": "2023-01-01T20:01:18.360215Z",
     "iopub.status.busy": "2023-01-01T20:01:18.359758Z",
     "iopub.status.idle": "2023-01-01T20:01:18.372067Z",
     "shell.execute_reply": "2023-01-01T20:01:18.370608Z",
     "shell.execute_reply.started": "2023-01-01T20:01:18.360174Z"
    },
    "scrolled": true
   },
   "outputs": [],
   "source": [
    "train_labels['gt'].value_counts()"
   ]
  },
  {
   "cell_type": "code",
   "execution_count": null,
   "metadata": {
    "execution": {
     "iopub.execute_input": "2023-01-01T20:01:19.250091Z",
     "iopub.status.busy": "2023-01-01T20:01:19.249566Z",
     "iopub.status.idle": "2023-01-01T20:01:20.348867Z",
     "shell.execute_reply": "2023-01-01T20:01:20.347785Z",
     "shell.execute_reply.started": "2023-01-01T20:01:19.250048Z"
    }
   },
   "outputs": [],
   "source": []
  },
  {
   "cell_type": "code",
   "execution_count": null,
   "metadata": {
    "execution": {
     "iopub.execute_input": "2023-01-01T20:01:22.227958Z",
     "iopub.status.busy": "2023-01-01T20:01:22.226761Z",
     "iopub.status.idle": "2023-01-01T20:01:22.236062Z",
     "shell.execute_reply": "2023-01-01T20:01:22.234890Z",
     "shell.execute_reply.started": "2023-01-01T20:01:22.227910Z"
    }
   },
   "outputs": [],
   "source": [
    "train.head()"
   ]
  },
  {
   "cell_type": "code",
   "execution_count": null,
   "metadata": {
    "execution": {
     "iopub.execute_input": "2023-01-01T20:01:22.641517Z",
     "iopub.status.busy": "2023-01-01T20:01:22.641017Z",
     "iopub.status.idle": "2023-01-01T20:01:22.649369Z",
     "shell.execute_reply": "2023-01-01T20:01:22.648410Z",
     "shell.execute_reply.started": "2023-01-01T20:01:22.641472Z"
    }
   },
   "outputs": [],
   "source": [
    "type2id"
   ]
  },
  {
   "cell_type": "code",
   "execution_count": null,
   "metadata": {
    "execution": {
     "iopub.execute_input": "2023-01-01T20:01:23.095474Z",
     "iopub.status.busy": "2023-01-01T20:01:23.094978Z",
     "iopub.status.idle": "2023-01-01T20:01:23.100769Z",
     "shell.execute_reply": "2023-01-01T20:01:23.099219Z",
     "shell.execute_reply.started": "2023-01-01T20:01:23.095432Z"
    }
   },
   "outputs": [],
   "source": [
    "# train['type']"
   ]
  },
  {
   "cell_type": "code",
   "execution_count": null,
   "metadata": {
    "execution": {
     "iopub.execute_input": "2023-01-01T20:01:23.770291Z",
     "iopub.status.busy": "2023-01-01T20:01:23.769830Z",
     "iopub.status.idle": "2023-01-01T20:01:23.776227Z",
     "shell.execute_reply": "2023-01-01T20:01:23.774882Z",
     "shell.execute_reply.started": "2023-01-01T20:01:23.770252Z"
    }
   },
   "outputs": [],
   "source": [
    "# train[train['type']==2]#['gt'].value_counts()"
   ]
  },
  {
   "cell_type": "code",
   "execution_count": null,
   "metadata": {
    "execution": {
     "iopub.execute_input": "2023-01-01T20:01:24.048111Z",
     "iopub.status.busy": "2023-01-01T20:01:24.047633Z",
     "iopub.status.idle": "2023-01-01T20:01:24.227708Z",
     "shell.execute_reply": "2023-01-01T20:01:24.226413Z",
     "shell.execute_reply.started": "2023-01-01T20:01:24.048073Z"
    }
   },
   "outputs": [],
   "source": [
    "train['gt'].value_counts()"
   ]
  },
  {
   "cell_type": "markdown",
   "metadata": {},
   "source": [
    "Ok, so we now have our preprocessed dataset, a column with ground truth, which means that the only thing we are missing for our Ranker is... information how to group individual rows into sessions!"
   ]
  },
  {
   "cell_type": "code",
   "execution_count": null,
   "metadata": {
    "execution": {
     "iopub.execute_input": "2023-01-01T20:01:25.028728Z",
     "iopub.status.busy": "2023-01-01T20:01:25.027688Z",
     "iopub.status.idle": "2023-01-01T20:01:25.036432Z",
     "shell.execute_reply": "2023-01-01T20:01:25.035406Z",
     "shell.execute_reply.started": "2023-01-01T20:01:25.028680Z"
    }
   },
   "outputs": [],
   "source": [
    "train.shape"
   ]
  },
  {
   "cell_type": "code",
   "execution_count": null,
   "metadata": {
    "execution": {
     "iopub.execute_input": "2023-01-01T20:01:25.420385Z",
     "iopub.status.busy": "2023-01-01T20:01:25.419522Z",
     "iopub.status.idle": "2023-01-01T20:01:25.430456Z",
     "shell.execute_reply": "2023-01-01T20:01:25.428854Z",
     "shell.execute_reply.started": "2023-01-01T20:01:25.420337Z"
    }
   },
   "outputs": [],
   "source": [
    "train.head()"
   ]
  },
  {
   "cell_type": "code",
   "execution_count": null,
   "metadata": {
    "execution": {
     "iopub.execute_input": "2023-01-01T20:01:25.883678Z",
     "iopub.status.busy": "2023-01-01T20:01:25.883231Z",
     "iopub.status.idle": "2023-01-01T20:01:25.890831Z",
     "shell.execute_reply": "2023-01-01T20:01:25.889121Z",
     "shell.execute_reply.started": "2023-01-01T20:01:25.883645Z"
    }
   },
   "outputs": [],
   "source": [
    "def get_session_lenghts(df):\n",
    "    return df.groupby('session').agg([\n",
    "        pl.col('session').count().alias('session_length')\n",
    "    ])['session_length'].to_numpy()"
   ]
  },
  {
   "cell_type": "code",
   "execution_count": null,
   "metadata": {
    "execution": {
     "iopub.execute_input": "2023-01-01T20:01:26.817166Z",
     "iopub.status.busy": "2023-01-01T20:01:26.816372Z",
     "iopub.status.idle": "2023-01-01T20:01:27.707140Z",
     "shell.execute_reply": "2023-01-01T20:01:27.705567Z",
     "shell.execute_reply.started": "2023-01-01T20:01:26.817119Z"
    },
    "scrolled": false
   },
   "outputs": [],
   "source": [
    "session_lengths_train = get_session_lenghts(train)\n",
    "session_lengths_test = get_session_lenghts(test)"
   ]
  },
  {
   "cell_type": "code",
   "execution_count": null,
   "metadata": {
    "execution": {
     "iopub.execute_input": "2023-01-01T20:01:27.710206Z",
     "iopub.status.busy": "2023-01-01T20:01:27.709768Z",
     "iopub.status.idle": "2023-01-01T20:01:27.718473Z",
     "shell.execute_reply": "2023-01-01T20:01:27.716993Z",
     "shell.execute_reply.started": "2023-01-01T20:01:27.710167Z"
    }
   },
   "outputs": [],
   "source": [
    "session_lengths_train.shape"
   ]
  },
  {
   "cell_type": "code",
   "execution_count": null,
   "metadata": {
    "execution": {
     "iopub.execute_input": "2023-01-01T20:01:27.720854Z",
     "iopub.status.busy": "2023-01-01T20:01:27.720427Z",
     "iopub.status.idle": "2023-01-01T20:01:27.733346Z",
     "shell.execute_reply": "2023-01-01T20:01:27.731831Z",
     "shell.execute_reply.started": "2023-01-01T20:01:27.720816Z"
    }
   },
   "outputs": [],
   "source": [
    "session_lengths_train"
   ]
  },
  {
   "cell_type": "markdown",
   "metadata": {},
   "source": [
    "# Model training"
   ]
  },
  {
   "cell_type": "code",
   "execution_count": null,
   "metadata": {
    "scrolled": false
   },
   "outputs": [],
   "source": [
    "import lightgbm"
   ]
  },
  {
   "cell_type": "code",
   "execution_count": null,
   "metadata": {
    "execution": {
     "iopub.execute_input": "2023-01-01T20:01:28.691561Z",
     "iopub.status.busy": "2023-01-01T20:01:28.690584Z",
     "iopub.status.idle": "2023-01-01T20:01:30.103814Z",
     "shell.execute_reply": "2023-01-01T20:01:30.102656Z",
     "shell.execute_reply.started": "2023-01-01T20:01:28.691505Z"
    },
    "scrolled": false
   },
   "outputs": [],
   "source": [
    "from lightgbm.sklearn import LGBMRanker"
   ]
  },
  {
   "cell_type": "code",
   "execution_count": null,
   "metadata": {
    "execution": {
     "iopub.execute_input": "2023-01-01T20:01:30.106660Z",
     "iopub.status.busy": "2023-01-01T20:01:30.105743Z",
     "iopub.status.idle": "2023-01-01T20:01:30.111957Z",
     "shell.execute_reply": "2023-01-01T20:01:30.110809Z",
     "shell.execute_reply.started": "2023-01-01T20:01:30.106617Z"
    },
    "scrolled": false
   },
   "outputs": [],
   "source": [
    "ranker = LGBMRanker(\n",
    "    objective=\"lambdarank\",\n",
    "    metric=\"ndcg\",\n",
    "    boosting_type=\"dart\",\n",
    "    n_estimators=estimator, \n",
    "    importance_type='gain',\n",
    "    eval_at=[5]\n",
    ")"
   ]
  },
  {
   "cell_type": "code",
   "execution_count": null,
   "metadata": {},
   "outputs": [],
   "source": [
    "estimator"
   ]
  },
  {
   "cell_type": "code",
   "execution_count": null,
   "metadata": {
    "execution": {
     "iopub.execute_input": "2023-01-01T20:01:50.214422Z",
     "iopub.status.busy": "2023-01-01T20:01:50.213134Z",
     "iopub.status.idle": "2023-01-01T20:01:50.219144Z",
     "shell.execute_reply": "2023-01-01T20:01:50.218066Z",
     "shell.execute_reply.started": "2023-01-01T20:01:50.214366Z"
    }
   },
   "outputs": [],
   "source": [
    "# train[feature_cols]"
   ]
  },
  {
   "cell_type": "code",
   "execution_count": null,
   "metadata": {},
   "outputs": [],
   "source": [
    "train[feature_cols].shape"
   ]
  },
  {
   "cell_type": "code",
   "execution_count": null,
   "metadata": {},
   "outputs": [],
   "source": [
    "test[feature_cols].shape"
   ]
  },
  {
   "cell_type": "code",
   "execution_count": null,
   "metadata": {},
   "outputs": [],
   "source": [
    "train[feature_cols].head()"
   ]
  },
  {
   "cell_type": "code",
   "execution_count": null,
   "metadata": {},
   "outputs": [],
   "source": [
    "test[feature_cols].head()"
   ]
  },
  {
   "cell_type": "code",
   "execution_count": null,
   "metadata": {},
   "outputs": [],
   "source": [
    "# train_labels['gt']"
   ]
  },
  {
   "cell_type": "code",
   "execution_count": null,
   "metadata": {},
   "outputs": [],
   "source": [
    "final_submission_file"
   ]
  },
  {
   "cell_type": "code",
   "execution_count": null,
   "metadata": {},
   "outputs": [],
   "source": [
    "min(session_lengths_train)"
   ]
  },
  {
   "cell_type": "code",
   "execution_count": null,
   "metadata": {
    "execution": {
     "iopub.execute_input": "2023-01-01T20:01:50.563943Z",
     "iopub.status.busy": "2023-01-01T20:01:50.563502Z",
     "iopub.status.idle": "2023-01-01T20:02:07.065600Z",
     "shell.execute_reply": "2023-01-01T20:02:07.064051Z",
     "shell.execute_reply.started": "2023-01-01T20:01:50.563907Z"
    },
    "scrolled": false
   },
   "outputs": [],
   "source": [
    "ranker = ranker.fit(\n",
    "    X=train[feature_cols].to_pandas(),\n",
    "    y=train[target].to_pandas(),\n",
    "    group=session_lengths_train,\n",
    "    eval_set=[(train[feature_cols].to_pandas(), train[target].to_pandas()),\n",
    "             (test[feature_cols].to_pandas(), test[target].to_pandas())\n",
    "             ],\n",
    "    eval_group=[session_lengths_train, session_lengths_test]\n",
    ")"
   ]
  },
  {
   "cell_type": "code",
   "execution_count": null,
   "metadata": {},
   "outputs": [],
   "source": [
    "pipe = Pipeline([\n",
    "    ('model', ranker)\n",
    "])"
   ]
  },
  {
   "cell_type": "code",
   "execution_count": null,
   "metadata": {},
   "outputs": [],
   "source": [
    "debug"
   ]
  },
  {
   "cell_type": "code",
   "execution_count": null,
   "metadata": {},
   "outputs": [],
   "source": [
    "if not debug:\n",
    "    joblib.dump(\n",
    "        value=pipe,\n",
    "        filename=model_file)"
   ]
  },
  {
   "cell_type": "code",
   "execution_count": null,
   "metadata": {},
   "outputs": [],
   "source": [
    "del train, train_labels\n",
    "gc.collect()"
   ]
  },
  {
   "cell_type": "markdown",
   "metadata": {},
   "source": [
    "# Load models "
   ]
  },
  {
   "cell_type": "code",
   "execution_count": null,
   "metadata": {},
   "outputs": [],
   "source": [
    "new_pipeline = joblib.load(\n",
    "    filename=model_file\n",
    ")"
   ]
  },
  {
   "cell_type": "code",
   "execution_count": null,
   "metadata": {},
   "outputs": [],
   "source": [
    "new_pipeline"
   ]
  },
  {
   "cell_type": "markdown",
   "metadata": {},
   "source": [
    "# Predict on test data"
   ]
  },
  {
   "cell_type": "markdown",
   "metadata": {},
   "source": [
    "Let's load our test set, process it and predict on it."
   ]
  },
  {
   "cell_type": "code",
   "execution_count": null,
   "metadata": {},
   "outputs": [],
   "source": [
    "final_submission_file"
   ]
  },
  {
   "cell_type": "code",
   "execution_count": null,
   "metadata": {},
   "outputs": [],
   "source": [
    "test_candidate_file"
   ]
  },
  {
   "cell_type": "code",
   "execution_count": null,
   "metadata": {},
   "outputs": [],
   "source": []
  },
  {
   "cell_type": "code",
   "execution_count": null,
   "metadata": {},
   "outputs": [],
   "source": [
    "# ! ls ../submission/candiate_for_validation/"
   ]
  },
  {
   "cell_type": "code",
   "execution_count": null,
   "metadata": {},
   "outputs": [],
   "source": [
    "# ../submission/candidate_for_validation/"
   ]
  },
  {
   "cell_type": "code",
   "execution_count": null,
   "metadata": {},
   "outputs": [],
   "source": []
  },
  {
   "cell_type": "code",
   "execution_count": null,
   "metadata": {},
   "outputs": [],
   "source": [
    "# assert len(test['session_type'].unique()) == 5015409"
   ]
  },
  {
   "cell_type": "code",
   "execution_count": null,
   "metadata": {},
   "outputs": [],
   "source": [
    "test.head()"
   ]
  },
  {
   "cell_type": "code",
   "execution_count": null,
   "metadata": {
    "execution": {
     "iopub.execute_input": "2023-01-01T20:02:12.749847Z",
     "iopub.status.busy": "2023-01-01T20:02:12.748841Z",
     "iopub.status.idle": "2023-01-01T20:02:16.239522Z",
     "shell.execute_reply": "2023-01-01T20:02:16.238348Z",
     "shell.execute_reply.started": "2023-01-01T20:02:12.749735Z"
    }
   },
   "outputs": [],
   "source": [
    "scores = new_pipeline.predict(test[feature_cols].to_pandas())"
   ]
  },
  {
   "cell_type": "markdown",
   "metadata": {},
   "source": [
    "# Create submission"
   ]
  },
  {
   "cell_type": "code",
   "execution_count": null,
   "metadata": {
    "execution": {
     "iopub.execute_input": "2023-01-01T20:02:16.297297Z",
     "iopub.status.busy": "2023-01-01T20:02:16.295956Z",
     "iopub.status.idle": "2023-01-01T20:02:17.105108Z",
     "shell.execute_reply": "2023-01-01T20:02:17.103519Z",
     "shell.execute_reply.started": "2023-01-01T20:02:16.297251Z"
    }
   },
   "outputs": [],
   "source": [
    "test = test.with_columns(pl.Series(name='score', values=scores))\n",
    "test_predictions = test.sort(['session', 'score'], reverse=True).groupby('session').agg([\n",
    "    pl.col('aid').limit(20).list()\n",
    "])"
   ]
  },
  {
   "cell_type": "code",
   "execution_count": null,
   "metadata": {
    "execution": {
     "iopub.execute_input": "2023-01-01T20:02:17.109216Z",
     "iopub.status.busy": "2023-01-01T20:02:17.108669Z",
     "iopub.status.idle": "2023-01-01T20:02:17.118796Z",
     "shell.execute_reply": "2023-01-01T20:02:17.117411Z",
     "shell.execute_reply.started": "2023-01-01T20:02:17.109160Z"
    }
   },
   "outputs": [],
   "source": [
    "test_predictions.head()"
   ]
  },
  {
   "cell_type": "code",
   "execution_count": null,
   "metadata": {},
   "outputs": [],
   "source": []
  },
  {
   "cell_type": "code",
   "execution_count": null,
   "metadata": {
    "execution": {
     "iopub.execute_input": "2023-01-01T20:02:17.120752Z",
     "iopub.status.busy": "2023-01-01T20:02:17.120365Z",
     "iopub.status.idle": "2023-01-01T20:02:27.886267Z",
     "shell.execute_reply": "2023-01-01T20:02:27.884423Z",
     "shell.execute_reply.started": "2023-01-01T20:02:17.120718Z"
    }
   },
   "outputs": [],
   "source": [
    "session_types = []\n",
    "labels = []\n",
    "\n",
    "for session, preds in zip(test_predictions['session'].to_numpy(), test_predictions['aid'].to_numpy()):\n",
    "    l = ' '.join(str(p) for p in preds)\n",
    "    for session_type in ['clicks', 'carts', 'orders']:\n",
    "        labels.append(l)\n",
    "        session_types.append(f'{session}_{session_type}')"
   ]
  },
  {
   "cell_type": "code",
   "execution_count": null,
   "metadata": {},
   "outputs": [],
   "source": []
  },
  {
   "cell_type": "code",
   "execution_count": null,
   "metadata": {},
   "outputs": [],
   "source": [
    "! ls -al {final_submission_file}"
   ]
  },
  {
   "cell_type": "code",
   "execution_count": null,
   "metadata": {},
   "outputs": [],
   "source": []
  },
  {
   "cell_type": "code",
   "execution_count": null,
   "metadata": {
    "execution": {
     "iopub.execute_input": "2023-01-01T20:02:27.888697Z",
     "iopub.status.busy": "2023-01-01T20:02:27.888221Z",
     "iopub.status.idle": "2023-01-01T20:02:31.329822Z",
     "shell.execute_reply": "2023-01-01T20:02:31.328777Z",
     "shell.execute_reply.started": "2023-01-01T20:02:27.888658Z"
    }
   },
   "outputs": [],
   "source": [
    "submission = pl.DataFrame({'session_type': session_types, 'labels': labels})\n",
    "if not debug:\n",
    "    submission.write_csv(final_submission_file)"
   ]
  },
  {
   "cell_type": "code",
   "execution_count": null,
   "metadata": {},
   "outputs": [],
   "source": [
    "final_submission_file"
   ]
  }
 ],
 "metadata": {
  "kernelspec": {
   "display_name": "Python 3 (ipykernel)",
   "language": "python",
   "name": "python3"
  },
  "language_info": {
   "codemirror_mode": {
    "name": "ipython",
    "version": 3
   },
   "file_extension": ".py",
   "mimetype": "text/x-python",
   "name": "python",
   "nbconvert_exporter": "python",
   "pygments_lexer": "ipython3",
   "version": "3.9.15"
  },
  "toc": {
   "base_numbering": 1,
   "nav_menu": {},
   "number_sections": true,
   "sideBar": true,
   "skip_h1_title": false,
   "title_cell": "Table of Contents",
   "title_sidebar": "Contents",
   "toc_cell": false,
   "toc_position": {
    "height": "calc(100% - 180px)",
    "left": "10px",
    "top": "150px",
    "width": "288px"
   },
   "toc_section_display": true,
   "toc_window_display": true
  }
 },
 "nbformat": 4,
 "nbformat_minor": 4
}

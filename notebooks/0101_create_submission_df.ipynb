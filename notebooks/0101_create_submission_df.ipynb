{
 "cells": [
  {
   "cell_type": "markdown",
   "id": "c8641fb5",
   "metadata": {},
   "source": [
    "# Packages "
   ]
  },
  {
   "cell_type": "code",
   "execution_count": 1,
   "id": "4eec02cd",
   "metadata": {},
   "outputs": [],
   "source": [
    "import pandas as pd"
   ]
  },
  {
   "cell_type": "markdown",
   "id": "83ce9892",
   "metadata": {},
   "source": [
    "# Config"
   ]
  },
  {
   "cell_type": "code",
   "execution_count": 26,
   "id": "1b338f88",
   "metadata": {},
   "outputs": [],
   "source": [
    "dir_path = '../out/debug_test_sessions.jsonl'\n",
    "label_dir_path = '../out/debug_test_labesl.jsonl'\n",
    "final_dir_path = '../out/debug_submission.csv'"
   ]
  },
  {
   "cell_type": "code",
   "execution_count": 8,
   "id": "945965e1",
   "metadata": {},
   "outputs": [],
   "source": [
    "df = pd.read_json(dir_path, lines=True)\n",
    "df_label = pd.read_json(label_dir_path, lines=True)"
   ]
  },
  {
   "cell_type": "code",
   "execution_count": 9,
   "id": "264678d7",
   "metadata": {},
   "outputs": [
    {
     "name": "stdout",
     "output_type": "stream",
     "text": [
      "<class 'pandas.core.frame.DataFrame'>\n",
      "RangeIndex: 3 entries, 0 to 2\n",
      "Data columns (total 2 columns):\n",
      " #   Column   Non-Null Count  Dtype \n",
      "---  ------   --------------  ----- \n",
      " 0   session  3 non-null      int64 \n",
      " 1   events   3 non-null      object\n",
      "dtypes: int64(1), object(1)\n",
      "memory usage: 176.0+ bytes\n"
     ]
    }
   ],
   "source": [
    "df.info()"
   ]
  },
  {
   "cell_type": "code",
   "execution_count": 10,
   "id": "28deed75",
   "metadata": {},
   "outputs": [
    {
     "data": {
      "text/plain": [
       "(3, 2)"
      ]
     },
     "execution_count": 10,
     "metadata": {},
     "output_type": "execute_result"
    }
   ],
   "source": [
    "df.shape"
   ]
  },
  {
   "cell_type": "code",
   "execution_count": 11,
   "id": "7fae610c",
   "metadata": {},
   "outputs": [
    {
     "data": {
      "text/html": [
       "<div>\n",
       "<style scoped>\n",
       "    .dataframe tbody tr th:only-of-type {\n",
       "        vertical-align: middle;\n",
       "    }\n",
       "\n",
       "    .dataframe tbody tr th {\n",
       "        vertical-align: top;\n",
       "    }\n",
       "\n",
       "    .dataframe thead th {\n",
       "        text-align: right;\n",
       "    }\n",
       "</style>\n",
       "<table border=\"1\" class=\"dataframe\">\n",
       "  <thead>\n",
       "    <tr style=\"text-align: right;\">\n",
       "      <th></th>\n",
       "      <th>session</th>\n",
       "      <th>events</th>\n",
       "    </tr>\n",
       "  </thead>\n",
       "  <tbody>\n",
       "    <tr>\n",
       "      <th>0</th>\n",
       "      <td>11098528</td>\n",
       "      <td>[{'aid': 11830, 'ts': 1661119200060, 'type': '...</td>\n",
       "    </tr>\n",
       "    <tr>\n",
       "      <th>1</th>\n",
       "      <td>11098529</td>\n",
       "      <td>[{'aid': 1105029, 'ts': 1661119200259, 'type':...</td>\n",
       "    </tr>\n",
       "    <tr>\n",
       "      <th>2</th>\n",
       "      <td>11098530</td>\n",
       "      <td>[{'aid': 264500, 'ts': 1661119200974, 'type': ...</td>\n",
       "    </tr>\n",
       "  </tbody>\n",
       "</table>\n",
       "</div>"
      ],
      "text/plain": [
       "    session                                             events\n",
       "0  11098528  [{'aid': 11830, 'ts': 1661119200060, 'type': '...\n",
       "1  11098529  [{'aid': 1105029, 'ts': 1661119200259, 'type':...\n",
       "2  11098530  [{'aid': 264500, 'ts': 1661119200974, 'type': ..."
      ]
     },
     "execution_count": 11,
     "metadata": {},
     "output_type": "execute_result"
    }
   ],
   "source": [
    "df"
   ]
  },
  {
   "cell_type": "code",
   "execution_count": 12,
   "id": "909f7123",
   "metadata": {},
   "outputs": [
    {
     "data": {
      "text/html": [
       "<div>\n",
       "<style scoped>\n",
       "    .dataframe tbody tr th:only-of-type {\n",
       "        vertical-align: middle;\n",
       "    }\n",
       "\n",
       "    .dataframe tbody tr th {\n",
       "        vertical-align: top;\n",
       "    }\n",
       "\n",
       "    .dataframe thead th {\n",
       "        text-align: right;\n",
       "    }\n",
       "</style>\n",
       "<table border=\"1\" class=\"dataframe\">\n",
       "  <thead>\n",
       "    <tr style=\"text-align: right;\">\n",
       "      <th></th>\n",
       "      <th>session</th>\n",
       "      <th>labels</th>\n",
       "    </tr>\n",
       "  </thead>\n",
       "  <tbody>\n",
       "    <tr>\n",
       "      <th>0</th>\n",
       "      <td>11098528</td>\n",
       "      <td>{'clicks': 1679529, 'carts': [1199737], 'order...</td>\n",
       "    </tr>\n",
       "    <tr>\n",
       "      <th>1</th>\n",
       "      <td>11098529</td>\n",
       "      <td>{'clicks': 1105029}</td>\n",
       "    </tr>\n",
       "    <tr>\n",
       "      <th>2</th>\n",
       "      <td>11098530</td>\n",
       "      <td>{'orders': [409236]}</td>\n",
       "    </tr>\n",
       "  </tbody>\n",
       "</table>\n",
       "</div>"
      ],
      "text/plain": [
       "    session                                             labels\n",
       "0  11098528  {'clicks': 1679529, 'carts': [1199737], 'order...\n",
       "1  11098529                                {'clicks': 1105029}\n",
       "2  11098530                               {'orders': [409236]}"
      ]
     },
     "execution_count": 12,
     "metadata": {},
     "output_type": "execute_result"
    }
   ],
   "source": [
    "df_label"
   ]
  },
  {
   "cell_type": "code",
   "execution_count": 13,
   "id": "e54cade4",
   "metadata": {},
   "outputs": [],
   "source": [
    "session_type = []\n",
    "labels = []"
   ]
  },
  {
   "cell_type": "code",
   "execution_count": 20,
   "id": "e9670dc6",
   "metadata": {},
   "outputs": [],
   "source": [
    "for idx, row in df_label.iterrows():\n",
    "    session = str(row['session'])\n",
    "    label_dict = row['labels']\n",
    "    for key, value in label_dict.items():\n",
    "        st = session + \"_\" + key\n",
    "        if type(value) == list:\n",
    "            label = (' ').join([str(ele) for ele in value])\n",
    "        else:\n",
    "            label = str(value)\n",
    "#         print(label)\n",
    "        session_type.append(st)\n",
    "        labels.append(label)\n",
    "#     print(row['labels'])"
   ]
  },
  {
   "cell_type": "code",
   "execution_count": 21,
   "id": "f5aa82f7",
   "metadata": {},
   "outputs": [
    {
     "data": {
      "text/plain": [
       "['11098528_clicks',\n",
       " '11098528_carts',\n",
       " '11098528_orders',\n",
       " '11098529_clicks',\n",
       " '11098530_orders',\n",
       " '11098528_clicks',\n",
       " '11098528_carts',\n",
       " '11098528_orders',\n",
       " '11098529_clicks',\n",
       " '11098530_orders']"
      ]
     },
     "execution_count": 21,
     "metadata": {},
     "output_type": "execute_result"
    }
   ],
   "source": [
    "session_type"
   ]
  },
  {
   "cell_type": "code",
   "execution_count": 24,
   "id": "fde1e8ee",
   "metadata": {},
   "outputs": [],
   "source": [
    "submission_df = pd.DataFrame({\n",
    "    'session_type': session_type,\n",
    "    'labels': labels\n",
    "})"
   ]
  },
  {
   "cell_type": "code",
   "execution_count": 25,
   "id": "a434836b",
   "metadata": {},
   "outputs": [
    {
     "data": {
      "text/html": [
       "<div>\n",
       "<style scoped>\n",
       "    .dataframe tbody tr th:only-of-type {\n",
       "        vertical-align: middle;\n",
       "    }\n",
       "\n",
       "    .dataframe tbody tr th {\n",
       "        vertical-align: top;\n",
       "    }\n",
       "\n",
       "    .dataframe thead th {\n",
       "        text-align: right;\n",
       "    }\n",
       "</style>\n",
       "<table border=\"1\" class=\"dataframe\">\n",
       "  <thead>\n",
       "    <tr style=\"text-align: right;\">\n",
       "      <th></th>\n",
       "      <th>session_type</th>\n",
       "      <th>labels</th>\n",
       "    </tr>\n",
       "  </thead>\n",
       "  <tbody>\n",
       "    <tr>\n",
       "      <th>0</th>\n",
       "      <td>11098528_clicks</td>\n",
       "      <td>1679529</td>\n",
       "    </tr>\n",
       "    <tr>\n",
       "      <th>1</th>\n",
       "      <td>11098528_carts</td>\n",
       "      <td>1199737</td>\n",
       "    </tr>\n",
       "    <tr>\n",
       "      <th>2</th>\n",
       "      <td>11098528_orders</td>\n",
       "      <td>990658 950341 1462506 1561739 907564 369774 44...</td>\n",
       "    </tr>\n",
       "    <tr>\n",
       "      <th>3</th>\n",
       "      <td>11098529_clicks</td>\n",
       "      <td>1105029</td>\n",
       "    </tr>\n",
       "    <tr>\n",
       "      <th>4</th>\n",
       "      <td>11098530_orders</td>\n",
       "      <td>409236</td>\n",
       "    </tr>\n",
       "    <tr>\n",
       "      <th>5</th>\n",
       "      <td>11098528_clicks</td>\n",
       "      <td>1679529</td>\n",
       "    </tr>\n",
       "    <tr>\n",
       "      <th>6</th>\n",
       "      <td>11098528_carts</td>\n",
       "      <td>1199737</td>\n",
       "    </tr>\n",
       "    <tr>\n",
       "      <th>7</th>\n",
       "      <td>11098528_orders</td>\n",
       "      <td>990658 950341 1462506 1561739 907564 369774 44...</td>\n",
       "    </tr>\n",
       "    <tr>\n",
       "      <th>8</th>\n",
       "      <td>11098529_clicks</td>\n",
       "      <td>1105029</td>\n",
       "    </tr>\n",
       "    <tr>\n",
       "      <th>9</th>\n",
       "      <td>11098530_orders</td>\n",
       "      <td>409236</td>\n",
       "    </tr>\n",
       "  </tbody>\n",
       "</table>\n",
       "</div>"
      ],
      "text/plain": [
       "      session_type                                             labels\n",
       "0  11098528_clicks                                            1679529\n",
       "1   11098528_carts                                            1199737\n",
       "2  11098528_orders  990658 950341 1462506 1561739 907564 369774 44...\n",
       "3  11098529_clicks                                            1105029\n",
       "4  11098530_orders                                             409236\n",
       "5  11098528_clicks                                            1679529\n",
       "6   11098528_carts                                            1199737\n",
       "7  11098528_orders  990658 950341 1462506 1561739 907564 369774 44...\n",
       "8  11098529_clicks                                            1105029\n",
       "9  11098530_orders                                             409236"
      ]
     },
     "execution_count": 25,
     "metadata": {},
     "output_type": "execute_result"
    }
   ],
   "source": [
    "submission_df"
   ]
  },
  {
   "cell_type": "code",
   "execution_count": 27,
   "id": "7427d98a",
   "metadata": {},
   "outputs": [],
   "source": [
    "submission_df.to_csv(final_dir_path, index=False)"
   ]
  }
 ],
 "metadata": {
  "kernelspec": {
   "display_name": "Python 3 (ipykernel)",
   "language": "python",
   "name": "python3"
  },
  "language_info": {
   "codemirror_mode": {
    "name": "ipython",
    "version": 3
   },
   "file_extension": ".py",
   "mimetype": "text/x-python",
   "name": "python",
   "nbconvert_exporter": "python",
   "pygments_lexer": "ipython3",
   "version": "3.8.11"
  }
 },
 "nbformat": 4,
 "nbformat_minor": 5
}

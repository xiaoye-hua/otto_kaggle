{
 "cells": [
  {
   "cell_type": "markdown",
   "id": "9a0e5156",
   "metadata": {},
   "source": [
    "# Packages "
   ]
  },
  {
   "cell_type": "code",
   "execution_count": 16,
   "id": "3e56ae7a",
   "metadata": {},
   "outputs": [],
   "source": [
    "import pandas as pd\n",
    "import numpy as np"
   ]
  },
  {
   "cell_type": "markdown",
   "id": "ff45c173",
   "metadata": {},
   "source": [
    "# config "
   ]
  },
  {
   "cell_type": "code",
   "execution_count": 3,
   "id": "4bc305c3",
   "metadata": {},
   "outputs": [],
   "source": [
    "train_df = pd.read_parquet('../../data/parquet/val/000000000_000100000.parquet')\n",
    "target_df = pd.read_parquet('../../data/parquet/val_label/000000000_000100000.parquet')"
   ]
  },
  {
   "cell_type": "code",
   "execution_count": 6,
   "id": "fa7821d7",
   "metadata": {
    "scrolled": true
   },
   "outputs": [
    {
     "data": {
      "text/html": [
       "<div>\n",
       "<style scoped>\n",
       "    .dataframe tbody tr th:only-of-type {\n",
       "        vertical-align: middle;\n",
       "    }\n",
       "\n",
       "    .dataframe tbody tr th {\n",
       "        vertical-align: top;\n",
       "    }\n",
       "\n",
       "    .dataframe thead th {\n",
       "        text-align: right;\n",
       "    }\n",
       "</style>\n",
       "<table border=\"1\" class=\"dataframe\">\n",
       "  <thead>\n",
       "    <tr style=\"text-align: right;\">\n",
       "      <th></th>\n",
       "      <th>session</th>\n",
       "      <th>aid</th>\n",
       "      <th>ts</th>\n",
       "      <th>type</th>\n",
       "    </tr>\n",
       "  </thead>\n",
       "  <tbody>\n",
       "    <tr>\n",
       "      <th>0</th>\n",
       "      <td>11098528</td>\n",
       "      <td>11830</td>\n",
       "      <td>1661119200060</td>\n",
       "      <td>clicks</td>\n",
       "    </tr>\n",
       "    <tr>\n",
       "      <th>1</th>\n",
       "      <td>11098529</td>\n",
       "      <td>1105029</td>\n",
       "      <td>1661119200259</td>\n",
       "      <td>clicks</td>\n",
       "    </tr>\n",
       "    <tr>\n",
       "      <th>2</th>\n",
       "      <td>11098530</td>\n",
       "      <td>264500</td>\n",
       "      <td>1661119200974</td>\n",
       "      <td>clicks</td>\n",
       "    </tr>\n",
       "    <tr>\n",
       "      <th>3</th>\n",
       "      <td>11098530</td>\n",
       "      <td>264500</td>\n",
       "      <td>1661119288407</td>\n",
       "      <td>clicks</td>\n",
       "    </tr>\n",
       "    <tr>\n",
       "      <th>4</th>\n",
       "      <td>11098530</td>\n",
       "      <td>409236</td>\n",
       "      <td>1661119369986</td>\n",
       "      <td>clicks</td>\n",
       "    </tr>\n",
       "    <tr>\n",
       "      <th>...</th>\n",
       "      <td>...</td>\n",
       "      <td>...</td>\n",
       "      <td>...</td>\n",
       "      <td>...</td>\n",
       "    </tr>\n",
       "    <tr>\n",
       "      <th>495350</th>\n",
       "      <td>11198664</td>\n",
       "      <td>1408492</td>\n",
       "      <td>1661168187240</td>\n",
       "      <td>clicks</td>\n",
       "    </tr>\n",
       "    <tr>\n",
       "      <th>495351</th>\n",
       "      <td>11198664</td>\n",
       "      <td>1296569</td>\n",
       "      <td>1661168217575</td>\n",
       "      <td>clicks</td>\n",
       "    </tr>\n",
       "    <tr>\n",
       "      <th>495352</th>\n",
       "      <td>11198664</td>\n",
       "      <td>1131713</td>\n",
       "      <td>1661168235902</td>\n",
       "      <td>clicks</td>\n",
       "    </tr>\n",
       "    <tr>\n",
       "      <th>495353</th>\n",
       "      <td>11198664</td>\n",
       "      <td>583797</td>\n",
       "      <td>1661168324866</td>\n",
       "      <td>clicks</td>\n",
       "    </tr>\n",
       "    <tr>\n",
       "      <th>495354</th>\n",
       "      <td>11198665</td>\n",
       "      <td>199586</td>\n",
       "      <td>1661168187343</td>\n",
       "      <td>clicks</td>\n",
       "    </tr>\n",
       "  </tbody>\n",
       "</table>\n",
       "<p>495355 rows × 4 columns</p>\n",
       "</div>"
      ],
      "text/plain": [
       "         session      aid             ts    type\n",
       "0       11098528    11830  1661119200060  clicks\n",
       "1       11098529  1105029  1661119200259  clicks\n",
       "2       11098530   264500  1661119200974  clicks\n",
       "3       11098530   264500  1661119288407  clicks\n",
       "4       11098530   409236  1661119369986  clicks\n",
       "...          ...      ...            ...     ...\n",
       "495350  11198664  1408492  1661168187240  clicks\n",
       "495351  11198664  1296569  1661168217575  clicks\n",
       "495352  11198664  1131713  1661168235902  clicks\n",
       "495353  11198664   583797  1661168324866  clicks\n",
       "495354  11198665   199586  1661168187343  clicks\n",
       "\n",
       "[495355 rows x 4 columns]"
      ]
     },
     "execution_count": 6,
     "metadata": {},
     "output_type": "execute_result"
    }
   ],
   "source": [
    "train_df"
   ]
  },
  {
   "cell_type": "code",
   "execution_count": 5,
   "id": "93bc715d",
   "metadata": {},
   "outputs": [
    {
     "data": {
      "text/html": [
       "<div>\n",
       "<style scoped>\n",
       "    .dataframe tbody tr th:only-of-type {\n",
       "        vertical-align: middle;\n",
       "    }\n",
       "\n",
       "    .dataframe tbody tr th {\n",
       "        vertical-align: top;\n",
       "    }\n",
       "\n",
       "    .dataframe thead th {\n",
       "        text-align: right;\n",
       "    }\n",
       "</style>\n",
       "<table border=\"1\" class=\"dataframe\">\n",
       "  <thead>\n",
       "    <tr style=\"text-align: right;\">\n",
       "      <th></th>\n",
       "      <th>session</th>\n",
       "      <th>type</th>\n",
       "      <th>ground_truth</th>\n",
       "    </tr>\n",
       "  </thead>\n",
       "  <tbody>\n",
       "    <tr>\n",
       "      <th>0</th>\n",
       "      <td>11098528</td>\n",
       "      <td>clicks</td>\n",
       "      <td>[1679529]</td>\n",
       "    </tr>\n",
       "    <tr>\n",
       "      <th>1</th>\n",
       "      <td>11098528</td>\n",
       "      <td>carts</td>\n",
       "      <td>[1199737]</td>\n",
       "    </tr>\n",
       "    <tr>\n",
       "      <th>2</th>\n",
       "      <td>11098528</td>\n",
       "      <td>orders</td>\n",
       "      <td>[990658, 950341, 1462506, 1561739, 907564, 369...</td>\n",
       "    </tr>\n",
       "    <tr>\n",
       "      <th>3</th>\n",
       "      <td>11098529</td>\n",
       "      <td>clicks</td>\n",
       "      <td>[1105029]</td>\n",
       "    </tr>\n",
       "    <tr>\n",
       "      <th>4</th>\n",
       "      <td>11098530</td>\n",
       "      <td>orders</td>\n",
       "      <td>[409236]</td>\n",
       "    </tr>\n",
       "    <tr>\n",
       "      <th>...</th>\n",
       "      <td>...</td>\n",
       "      <td>...</td>\n",
       "      <td>...</td>\n",
       "    </tr>\n",
       "    <tr>\n",
       "      <th>125772</th>\n",
       "      <td>11198663</td>\n",
       "      <td>carts</td>\n",
       "      <td>[754723]</td>\n",
       "    </tr>\n",
       "    <tr>\n",
       "      <th>125773</th>\n",
       "      <td>11198663</td>\n",
       "      <td>orders</td>\n",
       "      <td>[754723]</td>\n",
       "    </tr>\n",
       "    <tr>\n",
       "      <th>125774</th>\n",
       "      <td>11198664</td>\n",
       "      <td>clicks</td>\n",
       "      <td>[285929]</td>\n",
       "    </tr>\n",
       "    <tr>\n",
       "      <th>125775</th>\n",
       "      <td>11198665</td>\n",
       "      <td>clicks</td>\n",
       "      <td>[199586]</td>\n",
       "    </tr>\n",
       "    <tr>\n",
       "      <th>125776</th>\n",
       "      <td>11198665</td>\n",
       "      <td>carts</td>\n",
       "      <td>[199586]</td>\n",
       "    </tr>\n",
       "  </tbody>\n",
       "</table>\n",
       "<p>125777 rows × 3 columns</p>\n",
       "</div>"
      ],
      "text/plain": [
       "         session    type                                       ground_truth\n",
       "0       11098528  clicks                                          [1679529]\n",
       "1       11098528   carts                                          [1199737]\n",
       "2       11098528  orders  [990658, 950341, 1462506, 1561739, 907564, 369...\n",
       "3       11098529  clicks                                          [1105029]\n",
       "4       11098530  orders                                           [409236]\n",
       "...          ...     ...                                                ...\n",
       "125772  11198663   carts                                           [754723]\n",
       "125773  11198663  orders                                           [754723]\n",
       "125774  11198664  clicks                                           [285929]\n",
       "125775  11198665  clicks                                           [199586]\n",
       "125776  11198665   carts                                           [199586]\n",
       "\n",
       "[125777 rows x 3 columns]"
      ]
     },
     "execution_count": 5,
     "metadata": {},
     "output_type": "execute_result"
    }
   ],
   "source": [
    "target_df"
   ]
  },
  {
   "cell_type": "markdown",
   "id": "13d7042a",
   "metadata": {},
   "source": [
    "# Single_case"
   ]
  },
  {
   "cell_type": "code",
   "execution_count": null,
   "id": "4cc0b127",
   "metadata": {},
   "outputs": [],
   "source": []
  },
  {
   "cell_type": "code",
   "execution_count": 63,
   "id": "35815ad5",
   "metadata": {},
   "outputs": [
    {
     "data": {
      "text/plain": [
       "11106137"
      ]
     },
     "execution_count": 63,
     "metadata": {},
     "output_type": "execute_result"
    }
   ],
   "source": [
    "target_session = np.random.choice(train_df['session'].unique())\n",
    "target_session"
   ]
  },
  {
   "cell_type": "code",
   "execution_count": null,
   "id": "a125eed0",
   "metadata": {},
   "outputs": [],
   "source": []
  },
  {
   "cell_type": "markdown",
   "id": "1ac63cb2",
   "metadata": {},
   "source": [
    "## weights based current session "
   ]
  },
  {
   "cell_type": "code",
   "execution_count": 61,
   "id": "f564dbfa",
   "metadata": {
    "scrolled": true
   },
   "outputs": [
    {
     "data": {
      "text/html": [
       "<div>\n",
       "<style scoped>\n",
       "    .dataframe tbody tr th:only-of-type {\n",
       "        vertical-align: middle;\n",
       "    }\n",
       "\n",
       "    .dataframe tbody tr th {\n",
       "        vertical-align: top;\n",
       "    }\n",
       "\n",
       "    .dataframe thead th {\n",
       "        text-align: right;\n",
       "    }\n",
       "</style>\n",
       "<table border=\"1\" class=\"dataframe\">\n",
       "  <thead>\n",
       "    <tr style=\"text-align: right;\">\n",
       "      <th></th>\n",
       "      <th>session</th>\n",
       "      <th>aid</th>\n",
       "      <th>ts</th>\n",
       "      <th>type</th>\n",
       "    </tr>\n",
       "  </thead>\n",
       "  <tbody>\n",
       "    <tr>\n",
       "      <th>208437</th>\n",
       "      <td>11138463</td>\n",
       "      <td>360199</td>\n",
       "      <td>1661153182537</td>\n",
       "      <td>clicks</td>\n",
       "    </tr>\n",
       "    <tr>\n",
       "      <th>208438</th>\n",
       "      <td>11138463</td>\n",
       "      <td>360199</td>\n",
       "      <td>1661153239299</td>\n",
       "      <td>orders</td>\n",
       "    </tr>\n",
       "    <tr>\n",
       "      <th>208439</th>\n",
       "      <td>11138463</td>\n",
       "      <td>970135</td>\n",
       "      <td>1661153239299</td>\n",
       "      <td>orders</td>\n",
       "    </tr>\n",
       "    <tr>\n",
       "      <th>208440</th>\n",
       "      <td>11138463</td>\n",
       "      <td>575006</td>\n",
       "      <td>1661185757308</td>\n",
       "      <td>clicks</td>\n",
       "    </tr>\n",
       "    <tr>\n",
       "      <th>208441</th>\n",
       "      <td>11138463</td>\n",
       "      <td>575006</td>\n",
       "      <td>1661185762067</td>\n",
       "      <td>carts</td>\n",
       "    </tr>\n",
       "    <tr>\n",
       "      <th>208442</th>\n",
       "      <td>11138463</td>\n",
       "      <td>1320003</td>\n",
       "      <td>1661185822060</td>\n",
       "      <td>clicks</td>\n",
       "    </tr>\n",
       "  </tbody>\n",
       "</table>\n",
       "</div>"
      ],
      "text/plain": [
       "         session      aid             ts    type\n",
       "208437  11138463   360199  1661153182537  clicks\n",
       "208438  11138463   360199  1661153239299  orders\n",
       "208439  11138463   970135  1661153239299  orders\n",
       "208440  11138463   575006  1661185757308  clicks\n",
       "208441  11138463   575006  1661185762067   carts\n",
       "208442  11138463  1320003  1661185822060  clicks"
      ]
     },
     "execution_count": 61,
     "metadata": {},
     "output_type": "execute_result"
    }
   ],
   "source": [
    "train_df[train_df['session']==target_session]"
   ]
  },
  {
   "cell_type": "code",
   "execution_count": 62,
   "id": "c3b7836b",
   "metadata": {},
   "outputs": [
    {
     "data": {
      "text/plain": [
       "array([['orders', array([575006])]], dtype=object)"
      ]
     },
     "execution_count": 62,
     "metadata": {},
     "output_type": "execute_result"
    }
   ],
   "source": [
    "target_df[(target_df['session']==target_session)][['type', 'ground_truth']].values"
   ]
  },
  {
   "cell_type": "code",
   "execution_count": null,
   "id": "f3dc3935",
   "metadata": {},
   "outputs": [],
   "source": []
  }
 ],
 "metadata": {
  "kernelspec": {
   "display_name": "Python3.9(kaggle_otto)",
   "language": "python",
   "name": "recsys-dataset"
  },
  "language_info": {
   "codemirror_mode": {
    "name": "ipython",
    "version": 3
   },
   "file_extension": ".py",
   "mimetype": "text/x-python",
   "name": "python",
   "nbconvert_exporter": "python",
   "pygments_lexer": "ipython3",
   "version": "3.9.15"
  },
  "toc": {
   "base_numbering": 1,
   "nav_menu": {},
   "number_sections": true,
   "sideBar": true,
   "skip_h1_title": false,
   "title_cell": "Table of Contents",
   "title_sidebar": "Contents",
   "toc_cell": false,
   "toc_position": {},
   "toc_section_display": true,
   "toc_window_display": false
  }
 },
 "nbformat": 4,
 "nbformat_minor": 5
}

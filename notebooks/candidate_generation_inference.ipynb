{
 "cells": [
  {
   "cell_type": "markdown",
   "metadata": {
    "papermill": {
     "duration": 0.005198,
     "end_time": "2022-11-10T16:03:20.966987",
     "exception": false,
     "start_time": "2022-11-10T16:03:20.961789",
     "status": "completed"
    },
    "tags": []
   },
   "source": [
    "# Candidate ReRank Model using Handcrafted Rules\n",
    "In this notebook, we present a \"candidate rerank\" model using handcrafted rules. We can improve this model by engineering features, merging them unto items and users, and training a reranker model (such as XGB) to choose our final 20. Furthermore to tune and improve this notebook, we should build a local CV scheme to experiment new logic and/or models.\n",
    "\n",
    "UPDATE: I published a notebook to compute validation score [here][10] using Radek's scheme described [here][11].\n",
    "\n",
    "Note in this competition, a \"session\" actually means a unique \"user\". So our task is to predict what each of the `1,671,803` test \"users\" (i.e. \"sessions\") will do in the future. For each test \"user\" (i.e. \"session\") we must predict what they will `click`, `cart`, and `order` during the remainder of the week long test period.\n",
    "\n",
    "### Step 1 - Generate Candidates\n",
    "For each test user, we generate possible choices, i.e. candidates. In this notebook, we generate candidates from 5 sources:\n",
    "* User history of clicks, carts, orders\n",
    "* Most popular 20 clicks, carts, orders during test week\n",
    "* Co-visitation matrix of click/cart/order to cart/order with type weighting\n",
    "* Co-visitation matrix of cart/order to cart/order called buy2buy\n",
    "* Co-visitation matrix of click/cart/order to clicks with time weighting\n",
    "\n",
    "### Step 2 - ReRank and Choose 20\n",
    "Given the list of candidates, we must select 20 to be our predictions. In this notebook, we do this with a set of handcrafted rules. We can improve our predictions by training an XGBoost model to select for us. Our handcrafted rules give priority to:\n",
    "* Most recent previously visited items\n",
    "* Items previously visited multiple times\n",
    "* Items previously in cart or order\n",
    "* Co-visitation matrix of cart/order to cart/order\n",
    "* Current popular items\n",
    "\n",
    "![](https://raw.githubusercontent.com/cdeotte/Kaggle_Images/main/Nov-2022/c_r_model.png)\n",
    "  \n",
    "# Credits\n",
    "We thank many Kagglers who have shared ideas. We use co-visitation matrix idea from Vladimir [here][1]. We use groupby sort logic from Sinan in comment section [here][4]. We use duplicate prediction removal logic from Radek [here][5]. We use multiple visit logic from Pietro [here][2]. We use type weighting logic from Ingvaras [here][3]. We use leaky test data from my previous notebook [here][4]. And some ideas may have originated from Tawara [here][6] and KJ [here][7]. We use Colum2131's parquets [here][8]. Above image is from Ravi's discussion about candidate rerank models [here][9]\n",
    "\n",
    "[1]: https://www.kaggle.com/code/vslaykovsky/co-visitation-matrix\n",
    "[2]: https://www.kaggle.com/code/pietromaldini1/multiple-clicks-vs-latest-items\n",
    "[3]: https://www.kaggle.com/code/ingvarasgalinskas/item-type-vs-multiple-clicks-vs-latest-items\n",
    "[4]: https://www.kaggle.com/code/cdeotte/test-data-leak-lb-boost\n",
    "[5]: https://www.kaggle.com/code/radek1/co-visitation-matrix-simplified-imprvd-logic\n",
    "[6]: https://www.kaggle.com/code/ttahara/otto-mors-aid-frequency-baseline\n",
    "[7]: https://www.kaggle.com/code/whitelily/co-occurrence-baseline\n",
    "[8]: https://www.kaggle.com/datasets/columbia2131/otto-chunk-data-inparquet-format\n",
    "[9]: https://www.kaggle.com/competitions/otto-recommender-system/discussion/364721\n",
    "[10]: https://www.kaggle.com/cdeotte/compute-validation-score-cv-564\n",
    "[11]: https://www.kaggle.com/competitions/otto-recommender-system/discussion/364991"
   ]
  },
  {
   "cell_type": "markdown",
   "metadata": {},
   "source": [
    "# Notes\n",
    "Below are notes about versions:\n",
    "* **Version 1 LB 0.573** Uses popular ideas from public notebooks and adds additional co-visitation matrices and additional logic. Has CV `0.563`. See validation notebook version 2 [here][1].\n",
    "* **Version 2 LB 573** Refactor logic for `suggest_buys(df)` to make it clear how new co-visitation matrices are reranking the candidates by adding to candidate weights. Also new logic boosts CV by `+0.0003`. Also LB is slightly better too. See validation notebook version 3 [here][1]\n",
    "* **Version 3** is the same as version 2 but 1.5x faster co-visitation matrix computation!\n",
    "* **Version 4 LB 575** Use top20 for clicks and top15 for carts and buys (instead of top40 and top40). This boosts CV `+0.0015` hooray! New CV is `0.5647`. See validation version 5 [here][1]\n",
    "* **Version 5** is the same as version 4 but 2x faster co-visitation matrix computation! (and 3x faster than version 1)\n",
    "* **Version 6** Stay tuned for more versions...\n",
    "\n",
    "[1]: https://www.kaggle.com/code/cdeotte/compute-validation-score-cv-564"
   ]
  },
  {
   "cell_type": "markdown",
   "metadata": {},
   "source": [
    "# Packages "
   ]
  },
  {
   "cell_type": "code",
   "execution_count": 221,
   "metadata": {},
   "outputs": [],
   "source": [
    "\n",
    "import pandas as pd, numpy as np\n",
    "from tqdm.notebook import tqdm\n",
    "import os, sys, pickle, glob, gc\n",
    "from collections import Counter\n",
    "import itertools\n",
    "VER = 5\n",
    "DISK_PIECES = 4\n"
   ]
  },
  {
   "cell_type": "markdown",
   "metadata": {},
   "source": [
    "# Config "
   ]
  },
  {
   "cell_type": "code",
   "execution_count": 267,
   "metadata": {
    "execution": {
     "iopub.execute_input": "2022-12-28T20:27:19.588942Z",
     "iopub.status.busy": "2022-12-28T20:27:19.588565Z",
     "iopub.status.idle": "2022-12-28T20:27:19.593779Z",
     "shell.execute_reply": "2022-12-28T20:27:19.592559Z",
     "shell.execute_reply.started": "2022-12-28T20:27:19.588911Z"
    }
   },
   "outputs": [],
   "source": [
    "DEBUG = False\n",
    "final_submission = False\n",
    "# whether for rerank retraining or validation\n",
    "for_rerank_training = False\n",
    "rec_num = 40\n",
    "\n",
    "\n",
    "test_stage1_limit = True\n",
    "\n",
    "if test_stage1_limit:\n",
    "    assert for_rerank_training == False\n",
    "\n",
    "\n",
    "file_path = '../data/cart_order_features.csv'\n",
    "final_submission_unique_session_num = 1671803\n",
    "\n",
    "model_version = 'candidate_v2_train1_data'\n",
    "\n",
    "# debug_train_file_num = 40\n",
    "# debug_test_session_num = 100\n",
    "# type_labels = {'clicks':0, 'carts':1, 'orders':2}\n",
    "# DISK_PIECES = 4\n",
    "# model_dir = '../model_training/candiate_v1/'\n",
    "model_dir = f'../model_training/{model_version}/'\n",
    "\n",
    "# data_dir = '../data/parquet/val/test.parquet'\n",
    "# submission_file = '../data/val_candidates.csv'\n",
    "\n",
    "if final_submission:\n",
    "    data_dir = '../data/parquet/test/*'\n",
    "    submission_dir = '../submission/candidate_final_submission/'\n",
    "#     submission_file = f'../data/{model_version}_test_submission.csv'\n",
    "else:\n",
    "    if for_rerank_training:\n",
    "        data_dir = '../data/parquet/train2/*.parquet'\n",
    "        submission_dir = '../submission/candidate_for_rerank_training/'\n",
    "\n",
    "#         submission_file = f'../data/{model_version}_test_submission.csv'\n",
    "    else:\n",
    "        data_dir = '../data/parquet/val/*.parquet'\n",
    "#         submission_file = f'../data/{model_version}_test_submission.csv'\n",
    "        submission_dir = '../submission/candidate_for_validation/'\n",
    "        if rec_num <= 20:\n",
    "            submission_dir = '../submission/candidate_final_submission/'\n",
    "        \n",
    "    \n",
    "    \n",
    "# submission_file = os.path.join(submission_dir, f'{model_version}_test_submission.csv')\n",
    "file_path = os.path.join(submission_dir, f\"feature_recnum_{rec_num}_\"+model_version+'_test_submission.csv')\n",
    "submission_file = os.path.join(submission_dir, f\"recnum_{rec_num}_\"+model_version+'_test_submission.csv')\n",
    "\n",
    "if test_stage1_limit:\n",
    "    file_path += 'test_stage1_limit'\n",
    "    submission_file += 'test_stage1_limit'\n",
    "\n",
    "\n"
   ]
  },
  {
   "cell_type": "code",
   "execution_count": 240,
   "metadata": {},
   "outputs": [
    {
     "data": {
      "text/plain": [
       "'../submission/candidate_for_validation/feature_recnum_40_candidate_v2_train1_data_test_submission.csvtest_stage1_limt'"
      ]
     },
     "execution_count": 240,
     "metadata": {},
     "output_type": "execute_result"
    }
   ],
   "source": [
    "file_path"
   ]
  },
  {
   "cell_type": "code",
   "execution_count": 241,
   "metadata": {},
   "outputs": [],
   "source": [
    "# if final_submission:\n",
    "# else:\n",
    "#     if for_rerank_training:\n",
    "#         file_path = '../data/cart_order_features.csv'\n",
    "#     else:\n",
    "#         file_path = '../data/test_cart_order_features.csv'\n"
   ]
  },
  {
   "cell_type": "code",
   "execution_count": 242,
   "metadata": {},
   "outputs": [
    {
     "data": {
      "text/plain": [
       "'../submission/candidate_for_validation/feature_recnum_40_candidate_v2_train1_data_test_submission.csvtest_stage1_limt'"
      ]
     },
     "execution_count": 242,
     "metadata": {},
     "output_type": "execute_result"
    }
   ],
   "source": [
    "file_path"
   ]
  },
  {
   "cell_type": "code",
   "execution_count": 243,
   "metadata": {},
   "outputs": [
    {
     "data": {
      "text/plain": [
       "'../submission/candidate_for_validation/feature_recnum_40_candidate_v2_train1_data_test_submission.csvtest_stage1_limt'"
      ]
     },
     "execution_count": 243,
     "metadata": {},
     "output_type": "execute_result"
    }
   ],
   "source": [
    "file_path"
   ]
  },
  {
   "cell_type": "code",
   "execution_count": 244,
   "metadata": {},
   "outputs": [],
   "source": [
    "# ! tail -n 5 ../data/test_cart_order_features.csv"
   ]
  },
  {
   "cell_type": "code",
   "execution_count": 245,
   "metadata": {},
   "outputs": [
    {
     "data": {
      "text/plain": [
       "'../submission/candidate_for_validation/feature_recnum_40_candidate_v2_train1_data_test_submission.csvtest_stage1_limt'"
      ]
     },
     "execution_count": 245,
     "metadata": {},
     "output_type": "execute_result"
    }
   ],
   "source": [
    "file_path"
   ]
  },
  {
   "cell_type": "code",
   "execution_count": 246,
   "metadata": {
    "scrolled": true
   },
   "outputs": [
    {
     "name": "stdout",
     "output_type": "stream",
     "text": [
      "candidate_v2_test_submission.csv\r\n",
      "candidate_v2_train1_data_test_submission.csv\r\n",
      "feature_recnum_100_candidate_v2_train1_data_test_submission.csv\r\n",
      "recnum_100_candidate_v2_train1_data_test_submission.csv\r\n",
      "recnum_40_candidate_v2_train1_data_test_submission.csvtest_stage1_limt\r\n"
     ]
    }
   ],
   "source": [
    "! ls {submission_dir}"
   ]
  },
  {
   "cell_type": "markdown",
   "metadata": {
    "papermill": {
     "duration": null,
     "end_time": null,
     "exception": null,
     "start_time": null,
     "status": "pending"
    },
    "tags": []
   },
   "source": [
    "# Step 2 - ReRank (choose 20) using handcrafted rules\n",
    "For description of the handcrafted rules, read this notebook's intro."
   ]
  },
  {
   "cell_type": "markdown",
   "metadata": {},
   "source": [
    "## Process code "
   ]
  },
  {
   "cell_type": "code",
   "execution_count": 247,
   "metadata": {
    "execution": {
     "iopub.execute_input": "2022-12-28T20:23:37.374474Z",
     "iopub.status.busy": "2022-12-28T20:23:37.373645Z",
     "iopub.status.idle": "2022-12-28T20:23:39.204345Z",
     "shell.execute_reply": "2022-12-28T20:23:39.203347Z",
     "shell.execute_reply.started": "2022-12-28T20:23:37.374436Z"
    },
    "papermill": {
     "duration": null,
     "end_time": null,
     "exception": null,
     "start_time": null,
     "status": "pending"
    },
    "tags": []
   },
   "outputs": [
    {
     "name": "stdout",
     "output_type": "stream",
     "text": [
      "../data/parquet/val/*.parquet\n",
      "file number: 18\n",
      "Test data has shape (7580968, 4)\n"
     ]
    },
    {
     "data": {
      "text/html": [
       "<div>\n",
       "<style scoped>\n",
       "    .dataframe tbody tr th:only-of-type {\n",
       "        vertical-align: middle;\n",
       "    }\n",
       "\n",
       "    .dataframe tbody tr th {\n",
       "        vertical-align: top;\n",
       "    }\n",
       "\n",
       "    .dataframe thead th {\n",
       "        text-align: right;\n",
       "    }\n",
       "</style>\n",
       "<table border=\"1\" class=\"dataframe\">\n",
       "  <thead>\n",
       "    <tr style=\"text-align: right;\">\n",
       "      <th></th>\n",
       "      <th>session</th>\n",
       "      <th>aid</th>\n",
       "      <th>ts</th>\n",
       "      <th>type</th>\n",
       "    </tr>\n",
       "  </thead>\n",
       "  <tbody>\n",
       "    <tr>\n",
       "      <th>0</th>\n",
       "      <td>12613814</td>\n",
       "      <td>1221210</td>\n",
       "      <td>1661635407</td>\n",
       "      <td>clicks</td>\n",
       "    </tr>\n",
       "    <tr>\n",
       "      <th>1</th>\n",
       "      <td>12613815</td>\n",
       "      <td>1509935</td>\n",
       "      <td>1661635407</td>\n",
       "      <td>clicks</td>\n",
       "    </tr>\n",
       "    <tr>\n",
       "      <th>2</th>\n",
       "      <td>12613816</td>\n",
       "      <td>1647157</td>\n",
       "      <td>1661635407</td>\n",
       "      <td>clicks</td>\n",
       "    </tr>\n",
       "    <tr>\n",
       "      <th>3</th>\n",
       "      <td>12613816</td>\n",
       "      <td>121148</td>\n",
       "      <td>1661635479</td>\n",
       "      <td>clicks</td>\n",
       "    </tr>\n",
       "    <tr>\n",
       "      <th>4</th>\n",
       "      <td>12613816</td>\n",
       "      <td>991590</td>\n",
       "      <td>1661635579</td>\n",
       "      <td>clicks</td>\n",
       "    </tr>\n",
       "  </tbody>\n",
       "</table>\n",
       "</div>"
      ],
      "text/plain": [
       "    session      aid          ts    type\n",
       "0  12613814  1221210  1661635407  clicks\n",
       "1  12613815  1509935  1661635407  clicks\n",
       "2  12613816  1647157  1661635407  clicks\n",
       "3  12613816   121148  1661635479  clicks\n",
       "4  12613816   991590  1661635579  clicks"
      ]
     },
     "execution_count": 247,
     "metadata": {},
     "output_type": "execute_result"
    }
   ],
   "source": [
    "def load_test(data_dir, debug=DEBUG):    \n",
    "    dfs = []\n",
    "    files = glob.glob(data_dir)\n",
    "    if debug:\n",
    "        files = files[:2]\n",
    "    print(f'file number: {len(files)}')\n",
    "\n",
    "    for e, chunk_file in enumerate(files):\n",
    "        chunk = pd.read_parquet(chunk_file)\n",
    "        chunk.ts = (chunk.ts/1000).astype('int32')\n",
    "        if chunk['type'].dtype == str:\n",
    "            chunk['type'] = chunk['type'].map(type_labels).astype('int8')\n",
    "        dfs.append(chunk)\n",
    "    return pd.concat(dfs).reset_index(drop=True) #.astype({\"ts\": \"datetime64[ms]\"})\n",
    "\n",
    "print(data_dir)\n",
    "test_df = load_test(data_dir=data_dir)\n",
    "print('Test data has shape',test_df.shape)\n",
    "test_df.head()"
   ]
  },
  {
   "cell_type": "code",
   "execution_count": 28,
   "metadata": {
    "scrolled": true
   },
   "outputs": [
    {
     "data": {
      "text/plain": [
       "1783737"
      ]
     },
     "execution_count": 28,
     "metadata": {},
     "output_type": "execute_result"
    }
   ],
   "source": [
    "if DEBUG or not final_submission:\n",
    "    unique_session_num = len(test_df['session'].unique())\n",
    "else:\n",
    "    unique_session_num = final_submission_unique_session_num\n",
    "unique_session_num"
   ]
  },
  {
   "cell_type": "code",
   "execution_count": 29,
   "metadata": {},
   "outputs": [
    {
     "data": {
      "text/html": [
       "<div>\n",
       "<style scoped>\n",
       "    .dataframe tbody tr th:only-of-type {\n",
       "        vertical-align: middle;\n",
       "    }\n",
       "\n",
       "    .dataframe tbody tr th {\n",
       "        vertical-align: top;\n",
       "    }\n",
       "\n",
       "    .dataframe thead th {\n",
       "        text-align: right;\n",
       "    }\n",
       "</style>\n",
       "<table border=\"1\" class=\"dataframe\">\n",
       "  <thead>\n",
       "    <tr style=\"text-align: right;\">\n",
       "      <th></th>\n",
       "      <th>session</th>\n",
       "      <th>aid</th>\n",
       "      <th>ts</th>\n",
       "      <th>type</th>\n",
       "    </tr>\n",
       "  </thead>\n",
       "  <tbody>\n",
       "    <tr>\n",
       "      <th>0</th>\n",
       "      <td>12613814</td>\n",
       "      <td>1221210</td>\n",
       "      <td>1661635407</td>\n",
       "      <td>clicks</td>\n",
       "    </tr>\n",
       "    <tr>\n",
       "      <th>1</th>\n",
       "      <td>12613815</td>\n",
       "      <td>1509935</td>\n",
       "      <td>1661635407</td>\n",
       "      <td>clicks</td>\n",
       "    </tr>\n",
       "    <tr>\n",
       "      <th>2</th>\n",
       "      <td>12613816</td>\n",
       "      <td>1647157</td>\n",
       "      <td>1661635407</td>\n",
       "      <td>clicks</td>\n",
       "    </tr>\n",
       "    <tr>\n",
       "      <th>3</th>\n",
       "      <td>12613816</td>\n",
       "      <td>121148</td>\n",
       "      <td>1661635479</td>\n",
       "      <td>clicks</td>\n",
       "    </tr>\n",
       "    <tr>\n",
       "      <th>4</th>\n",
       "      <td>12613816</td>\n",
       "      <td>991590</td>\n",
       "      <td>1661635579</td>\n",
       "      <td>clicks</td>\n",
       "    </tr>\n",
       "  </tbody>\n",
       "</table>\n",
       "</div>"
      ],
      "text/plain": [
       "    session      aid          ts    type\n",
       "0  12613814  1221210  1661635407  clicks\n",
       "1  12613815  1509935  1661635407  clicks\n",
       "2  12613816  1647157  1661635407  clicks\n",
       "3  12613816   121148  1661635479  clicks\n",
       "4  12613816   991590  1661635579  clicks"
      ]
     },
     "execution_count": 29,
     "metadata": {},
     "output_type": "execute_result"
    }
   ],
   "source": [
    "test_df.head()"
   ]
  },
  {
   "cell_type": "code",
   "execution_count": null,
   "metadata": {},
   "outputs": [],
   "source": []
  },
  {
   "cell_type": "markdown",
   "metadata": {},
   "source": [
    "## Load Model "
   ]
  },
  {
   "cell_type": "code",
   "execution_count": 30,
   "metadata": {},
   "outputs": [],
   "source": [
    "# TOP CLICKS AND ORDERS IN TEST\n",
    "top_clicks = test_df.loc[test_df['type']=='clicks','aid'].value_counts().index.values[:rec_num]\n",
    "top_orders = test_df.loc[test_df['type']=='orders','aid'].value_counts().index.values[:rec_num]"
   ]
  },
  {
   "cell_type": "code",
   "execution_count": 31,
   "metadata": {},
   "outputs": [],
   "source": [
    "def pqt_to_dict(df):\n",
    "    return df.groupby('aid_x').aid_y.apply(list).to_dict()\n",
    "# LOAD THREE CO-VISITATION MATRICES\n",
    "top_20_clicks = pqt_to_dict( pd.read_parquet(os.path.join(model_dir, f'top_20_clicks_v{VER}_0.pqt')) )\n",
    "for k in range(1,DISK_PIECES): \n",
    "    top_20_clicks.update( pqt_to_dict( pd.read_parquet(os.path.join(model_dir, f'top_20_clicks_v{VER}_{k}.pqt')) ) )"
   ]
  },
  {
   "cell_type": "code",
   "execution_count": 32,
   "metadata": {},
   "outputs": [],
   "source": [
    "# top_20_clicks"
   ]
  },
  {
   "cell_type": "code",
   "execution_count": 33,
   "metadata": {
    "execution": {
     "iopub.execute_input": "2022-12-28T20:23:39.256051Z",
     "iopub.status.busy": "2022-12-28T20:23:39.255368Z",
     "iopub.status.idle": "2022-12-28T20:24:56.610639Z",
     "shell.execute_reply": "2022-12-28T20:24:56.608078Z",
     "shell.execute_reply.started": "2022-12-28T20:23:39.256014Z"
    },
    "papermill": {
     "duration": null,
     "end_time": null,
     "exception": null,
     "start_time": null,
     "status": "pending"
    },
    "tags": []
   },
   "outputs": [
    {
     "name": "stdout",
     "output_type": "stream",
     "text": [
      "Here are size of our 3 co-visitation matrices:\n",
      "1686352 859067 1686352\n",
      "CPU times: user 29.3 s, sys: 2.39 s, total: 31.7 s\n",
      "Wall time: 33 s\n"
     ]
    }
   ],
   "source": [
    "%%time\n",
    "top_20_buys = pqt_to_dict( pd.read_parquet(os.path.join(model_dir, f'top_15_carts_orders_v{VER}_0.pqt')) )\n",
    "for k in range(1,DISK_PIECES): \n",
    "    top_20_buys.update( pqt_to_dict( pd.read_parquet(os.path.join(model_dir, f'top_15_carts_orders_v{VER}_{k}.pqt') )) )\n",
    "top_20_buy2buy = pqt_to_dict( pd.read_parquet(os.path.join(model_dir, f'top_15_buy2buy_v{VER}_0.pqt')) )\n",
    "\n",
    "print('Here are size of our 3 co-visitation matrices:')\n",
    "print( len( top_20_clicks ), len( top_20_buy2buy ), len( top_20_buys ) )"
   ]
  },
  {
   "cell_type": "code",
   "execution_count": null,
   "metadata": {},
   "outputs": [],
   "source": []
  },
  {
   "cell_type": "code",
   "execution_count": 34,
   "metadata": {
    "execution": {
     "iopub.execute_input": "2022-12-28T20:25:48.811968Z",
     "iopub.status.busy": "2022-12-28T20:25:48.811590Z",
     "iopub.status.idle": "2022-12-28T20:25:48.868563Z",
     "shell.execute_reply": "2022-12-28T20:25:48.867131Z",
     "shell.execute_reply.started": "2022-12-28T20:25:48.811935Z"
    },
    "papermill": {
     "duration": null,
     "end_time": null,
     "exception": null,
     "start_time": null,
     "status": "pending"
    },
    "tags": []
   },
   "outputs": [],
   "source": [
    "type_weight_multipliers = {'clicks': 1, 'carts': 6, 'orders': 3}\n",
    "# type_weight_multipliers = {0: 1, 1: 6, 2: 3}\n",
    "\n",
    "def suggest_clicks(df):\n",
    "    \"\"\"\n",
    "    Three parts\n",
    "        1. unique_uids from this session\n",
    "        2. aid based on click co-visitation matric\n",
    "        3. top_clicks from test data\n",
    "    \"\"\"\n",
    "    # USER HISTORY AIDS AND TYPES\n",
    "    aids=df.aid.tolist()\n",
    "    types = df.type.tolist()\n",
    "    unique_aids = list(dict.fromkeys(aids[::-1] ))\n",
    "    # RERANK CANDIDATES USING WEIGHTS\n",
    "    if len(unique_aids)>=rec_num:\n",
    "        # most recent action has the highest score\n",
    "        weights=np.logspace(0.1,1,len(aids),base=2, endpoint=True)-1\n",
    "        aids_temp = Counter() \n",
    "        # RERANK BASED ON REPEAT ITEMS AND TYPE OF ITEMS\n",
    "        for aid,w,t in zip(aids,weights,types): \n",
    "            aids_temp[aid] += w * type_weight_multipliers[t]\n",
    "        sorted_aids = [k for k,v in aids_temp.most_common(rec_num)]\n",
    "        return sorted_aids\n",
    "    # USE \"CLICKS\" CO-VISITATION MATRIX get potential aids -> include all of the aid in one list\n",
    "    aids2 = list(itertools.chain(*[top_20_clicks[aid] for aid in unique_aids if aid in top_20_clicks]))\n",
    "    # RERANK CANDIDATES based on presence times\n",
    "    top_aids2 = [aid2 for aid2, cnt in Counter(aids2).most_common(rec_num) if aid2 not in unique_aids]\n",
    "    # combined unique_aids and top_aids2\n",
    "    result = unique_aids + top_aids2[:rec_num - len(unique_aids)]\n",
    "    # If not enough, USE TOP20 TEST CLICKS \n",
    "    return result + list(top_clicks)[:rec_num-len(result)]\n",
    "\n",
    "def suggest_buys(df):\n",
    "    \"\"\"\n",
    "    \"\"\"\n",
    "    # USER HISTORY AIDS AND TYPES\n",
    "    aids=df.aid.tolist()\n",
    "    types = df.type.tolist()\n",
    "    # UNIQUE AIDS AND UNIQUE BUYS\n",
    "    unique_aids = list(dict.fromkeys(aids[::-1] ))\n",
    "    df = df.loc[(df['type']==1)|(df['type']==2)]\n",
    "    unique_buys = list(dict.fromkeys( df.aid.tolist()[::-1] ))\n",
    "    # RERANK CANDIDATES USING WEIGHTS\n",
    "    if len(unique_aids)>=rec_num:\n",
    "        weights=np.logspace(0.5,1,len(aids),base=2, endpoint=True)-1\n",
    "        aids_temp = Counter() \n",
    "        # RERANK BASED ON REPEAT ITEMS AND TYPE OF ITEMS\n",
    "        for aid,w,t in zip(aids,weights,types): \n",
    "            aids_temp[aid] += w * type_weight_multipliers[t]\n",
    "        # RERANK CANDIDATES USING \"BUY2BUY\" CO-VISITATION MATRIX\n",
    "        aids3 = list(itertools.chain(*[top_20_buy2buy[aid] for aid in unique_buys if aid in top_20_buy2buy]))\n",
    "        for aid in aids3: \n",
    "            aids_temp[aid] += 0.1\n",
    "        sorted_aids = [k for k,v in aids_temp.most_common(rec_num)]\n",
    "        return sorted_aids\n",
    "    # USE \"CART ORDER\" CO-VISITATION MATRIX\n",
    "    aids2 = list(itertools.chain(*[top_20_buys[aid] for aid in unique_aids if aid in top_20_buys]))\n",
    "    # USE \"BUY2BUY\" CO-VISITATION MATRIX\n",
    "    aids3 = list(itertools.chain(*[top_20_buy2buy[aid] for aid in unique_buys if aid in top_20_buy2buy]))\n",
    "    # RERANK CANDIDATES\n",
    "    top_aids2 = [aid2 for aid2, cnt in Counter(aids2+aids3).most_common(rec_num) if aid2 not in unique_aids] \n",
    "    result = unique_aids + top_aids2[:rec_num - len(unique_aids)]\n",
    "    # USE TOP20 TEST ORDERS\n",
    "    return result + list(top_orders)[:rec_num -len(result)]"
   ]
  },
  {
   "cell_type": "code",
   "execution_count": 237,
   "metadata": {},
   "outputs": [],
   "source": [
    "def suggest_clicks_weight(df):\n",
    "    \"\"\"\n",
    "    Three parts\n",
    "        1. unique_uids from this session\n",
    "        2. aid based on click co-visitation matric\n",
    "        3. top_clicks from test data\n",
    "    \"\"\"\n",
    "    # USER HISTORY AIDS AND TYPES\n",
    "    aids=df.aid.tolist()\n",
    "    types = df.type.tolist()\n",
    "    unique_aids = list(dict.fromkeys(aids[::-1] ))\n",
    "    \n",
    "    # features\n",
    "    type_weight_current_session = []\n",
    "    click_covisitation_num = []\n",
    "    \n",
    "    # RERANK CANDIDATES USING WEIGHTS\n",
    "    if len(unique_aids)>=rec_num:\n",
    "        # most recent action has the highest score\n",
    "        weights=np.logspace(0.1,1,len(aids),base=2, endpoint=True)-1\n",
    "        aids_temp = Counter() \n",
    "        # RERANK BASED ON REPEAT ITEMS AND TYPE OF ITEMS\n",
    "        for aid,w,t in zip(aids,weights,types): \n",
    "            aids_temp[aid] += w * type_weight_multipliers[t]\n",
    "        sorted_aids = [k for k,v in aids_temp.most_common(rec_num)]\n",
    "        type_weight_current_session +=[v for k,v in aids_temp.most_common(rec_num)]\n",
    "        return sorted_aids\n",
    "    # USE \"CLICKS\" CO-VISITATION MATRIX get potential aids -> include all of the aid in one list\n",
    "    aids2 = list(itertools.chain(*[top_20_clicks[aid] for aid in unique_aids if aid in top_20_clicks]))\n",
    "    # RERANK CANDIDATES based on presence times\n",
    "    top_aids2 = [aid2 for aid2, cnt in Counter(aids2).most_common(rec_num) if aid2 not in unique_aids]\n",
    "    # combined unique_aids and top_aids2\n",
    "    result = unique_aids + top_aids2[:rec_num - len(unique_aids)]\n",
    "    # If not enough, USE TOP20 TEST CLICKS \n",
    "    final_aid_lst = result + list(top_clicks)[:rec_num-len(result)]\n",
    "    type_weight_current_session += [0]*(rec_num-len(type_weight_current_session))\n",
    "    assert len(final_aid_lst) == len(type_weight_current_session), f\"{len(final_aid_lst)} VS {len(type_weight_current_session)}\"\n",
    "    return final_aid_lst, type_weight_current_session\n",
    "\n",
    "\n",
    "#!/usr/bin/env python\n",
    "# -*- coding:utf-8 -*-\n",
    "# @Filename:    playground.py\n",
    "# @Time:        18/01/2023 19:21\n",
    "# @Desc:\n",
    "\n",
    "\n",
    "def suggest_clicks_weight(df):\n",
    "    \"\"\"\n",
    "    Three parts\n",
    "        1. unique_uids from this session\n",
    "        2. aid based on click co-visitation matric\n",
    "        3. top_clicks from test data\n",
    "    \"\"\"\n",
    "    # USER HISTORY AIDS AND TYPES\n",
    "    aids = df.aid.tolist()\n",
    "    types = df.type.tolist()\n",
    "    unique_aids = list(dict.fromkeys(aids[::-1]))\n",
    "\n",
    "    # features\n",
    "    type_weight_current_session = []\n",
    "    click_covisitation_num = []\n",
    "\n",
    "    # RERANK CANDIDATES USING WEIGHTS\n",
    "    if len(unique_aids) >= rec_num:\n",
    "        # most recent action has the highest score\n",
    "        weights = np.logspace(0.1, 1, len(aids), base=2, endpoint=True) - 1\n",
    "        aids_temp = Counter()\n",
    "        # RERANK BASED ON REPEAT ITEMS AND TYPE OF ITEMS\n",
    "        for aid, w, t in zip(aids, weights, types):\n",
    "            aids_temp[aid] += w * type_weight_multipliers[t]\n",
    "        sorted_aids = [k for k, v in aids_temp.most_common(rec_num)]\n",
    "        type_weight_current_session += [v for k, v in aids_temp.most_common(rec_num)]\n",
    "        return sorted_aids\n",
    "    # USE \"CLICKS\" CO-VISITATION MATRIX get potential aids -> include all of the aid in one list\n",
    "    aids2 = list(itertools.chain(*[top_20_clicks[aid] for aid in unique_aids if aid in top_20_clicks]))\n",
    "    # RERANK CANDIDATES based on presence times\n",
    "    top_aids2 = [aid2 for aid2, cnt in Counter(aids2).most_common(rec_num) if aid2 not in unique_aids]\n",
    "    # combined unique_aids and top_aids2\n",
    "    result = unique_aids + top_aids2[:rec_num - len(unique_aids)]\n",
    "    # If not enough, USE TOP20 TEST CLICKS\n",
    "    final_aid_lst = result + list(top_clicks)[:rec_num - len(result)]\n",
    "    type_weight_current_session += [0] * (rec_num - len(type_weight_current_session))\n",
    "    assert len(final_aid_lst) == len(\n",
    "        type_weight_current_session), f\"{len(final_aid_lst)} VS {len(type_weight_current_session)}\"\n",
    "    return final_aid_lst, type_weight_current_session\n",
    "\n",
    "\n",
    "def buys_features(df):\n",
    "    \"\"\"\n",
    "    \"\"\"\n",
    "    # USER HISTORY AIDS AND TYPES\n",
    "    aids = df.aid.tolist()\n",
    "    types = df.type.tolist()\n",
    "    if test_stage1_limit:\n",
    "#         print(df['ground_truth'].values)\n",
    "        ground_truth = df['ground_truth'].values[0]\n",
    "    # UNIQUE AIDS AND UNIQUE BUYS\n",
    "    unique_aids = list(dict.fromkeys(aids[::-1]))\n",
    "    df = df.loc[(df['type'] == 1) | (df['type'] == 2)]\n",
    "    unique_buys = list(dict.fromkeys(df.aid.tolist()[::-1]))\n",
    "    # RERANK CANDIDATES USING WEIGHTS\n",
    "\n",
    "    # features\n",
    "    type_weight_current_session = []\n",
    "    click_covisitation_num = []\n",
    "    # if len(unique_aids) >= rec_num:\n",
    "    weights = np.logspace(0.5, 1, len(aids), base=2, endpoint=True) - 1\n",
    "    type_weight_dict = Counter()\n",
    "    # RERANK BASED ON REPEAT ITEMS AND TYPE OF ITEMS\n",
    "    for aid, w, t in zip(aids, weights, types):\n",
    "        type_weight_dict[aid] += w * type_weight_multipliers[t]\n",
    "        # sorted_aids = [k for k, v in type_weight_dict.most_common(rec_num)]\n",
    "        # type_weight_current_session += [v for k, v in type_weight_dict.most_common(rec_num)]\n",
    "        # return sorted_aids\n",
    "\n",
    "    # USE \"CART ORDER\" CO-VISITATION MATRIX\n",
    "    aids2 = list(itertools.chain(*[top_20_buys[aid] for aid in unique_aids if aid in top_20_buys]))\n",
    "    # USE \"BUY2BUY\" CO-VISITATION MATRIX\n",
    "    aids3 = list(itertools.chain(*[top_20_buy2buy[aid] for aid in unique_buys if aid in top_20_buy2buy]))\n",
    "    cart_order_num_counter  = Counter(aids2)\n",
    "    buy_buy_num_counter = Counter(aids3)\n",
    "    # RERANK CANDIDATES\n",
    "    top_aids2 = [aid2 for aid2, cnt in Counter(aids2 + aids3).most_common(rec_num) if aid2 not in unique_aids]\n",
    "\n",
    "    # get the candidate\n",
    "    result = unique_aids + top_aids2[:rec_num - len(unique_aids)]\n",
    "    # USE TOP20 TEST ORDERS\n",
    "    final_aid_lst = result + list(top_orders)[:rec_num - len(result)]\n",
    "    if test_stage1_limit:\n",
    "#         print(ground_truth)\n",
    "#         print(set(ground_truth))\n",
    "        more_lst = list(set(ground_truth) - set(final_aid_lst))\n",
    "        final_aid_lst = more_lst + final_aid_lst\n",
    "        if len(more_lst)>0:\n",
    "            assert len(final_aid_lst) > rec_num, f\"{len(final_aid_lst)}; {len(more_lst)}\"\n",
    "\n",
    "    type_weight_current_session = [round(type_weight_dict.get(aid, 0), 2) for aid in final_aid_lst]\n",
    "    card_order_num = [cart_order_num_counter.get(aid, 0) for aid in final_aid_lst]\n",
    "    buy_buy_num = [buy_buy_num_counter.get(aid, 0) for aid in final_aid_lst]\n",
    "    \n",
    "    #     # += [0] * (rec_num - len(type_weight_current_session))\n",
    "    # if sum(type_weight_current_session) > 0:\n",
    "    #     print(type_weight_current_session)\n",
    "    # assert len(final_aid_lst) == len(\n",
    "    #     type_weight_current_session), f\"{len(final_aid_lst)} VS {len(type_weight_current_session)}\"\n",
    "\n",
    "    return final_aid_lst, type_weight_current_session, card_order_num, buy_buy_num"
   ]
  },
  {
   "cell_type": "code",
   "execution_count": 212,
   "metadata": {
    "execution": {
     "iopub.execute_input": "2022-12-28T20:26:08.347641Z",
     "iopub.status.busy": "2022-12-28T20:26:08.347283Z",
     "iopub.status.idle": "2022-12-28T20:26:08.357675Z",
     "shell.execute_reply": "2022-12-28T20:26:08.356718Z",
     "shell.execute_reply.started": "2022-12-28T20:26:08.347613Z"
    }
   },
   "outputs": [
    {
     "data": {
      "text/html": [
       "<div>\n",
       "<style scoped>\n",
       "    .dataframe tbody tr th:only-of-type {\n",
       "        vertical-align: middle;\n",
       "    }\n",
       "\n",
       "    .dataframe tbody tr th {\n",
       "        vertical-align: top;\n",
       "    }\n",
       "\n",
       "    .dataframe thead th {\n",
       "        text-align: right;\n",
       "    }\n",
       "</style>\n",
       "<table border=\"1\" class=\"dataframe\">\n",
       "  <thead>\n",
       "    <tr style=\"text-align: right;\">\n",
       "      <th></th>\n",
       "      <th>session</th>\n",
       "      <th>aid</th>\n",
       "      <th>ts</th>\n",
       "      <th>type</th>\n",
       "      <th>ground_truth</th>\n",
       "    </tr>\n",
       "  </thead>\n",
       "  <tbody>\n",
       "    <tr>\n",
       "      <th>0</th>\n",
       "      <td>12613814</td>\n",
       "      <td>1221210</td>\n",
       "      <td>1661635407</td>\n",
       "      <td>clicks</td>\n",
       "      <td>[185543]</td>\n",
       "    </tr>\n",
       "    <tr>\n",
       "      <th>1</th>\n",
       "      <td>12613815</td>\n",
       "      <td>1509935</td>\n",
       "      <td>1661635407</td>\n",
       "      <td>clicks</td>\n",
       "      <td>[1359971, 1462420, 486086, 1509372]</td>\n",
       "    </tr>\n",
       "    <tr>\n",
       "      <th>2</th>\n",
       "      <td>12613816</td>\n",
       "      <td>1647157</td>\n",
       "      <td>1661635407</td>\n",
       "      <td>clicks</td>\n",
       "      <td>[1309497]</td>\n",
       "    </tr>\n",
       "    <tr>\n",
       "      <th>3</th>\n",
       "      <td>12613816</td>\n",
       "      <td>121148</td>\n",
       "      <td>1661635479</td>\n",
       "      <td>clicks</td>\n",
       "      <td>[1309497]</td>\n",
       "    </tr>\n",
       "    <tr>\n",
       "      <th>4</th>\n",
       "      <td>12613816</td>\n",
       "      <td>991590</td>\n",
       "      <td>1661635579</td>\n",
       "      <td>clicks</td>\n",
       "      <td>[1309497]</td>\n",
       "    </tr>\n",
       "  </tbody>\n",
       "</table>\n",
       "</div>"
      ],
      "text/plain": [
       "    session      aid          ts    type                         ground_truth\n",
       "0  12613814  1221210  1661635407  clicks                             [185543]\n",
       "1  12613815  1509935  1661635407  clicks  [1359971, 1462420, 486086, 1509372]\n",
       "2  12613816  1647157  1661635407  clicks                            [1309497]\n",
       "3  12613816   121148  1661635479  clicks                            [1309497]\n",
       "4  12613816   991590  1661635579  clicks                            [1309497]"
      ]
     },
     "execution_count": 212,
     "metadata": {},
     "output_type": "execute_result"
    }
   ],
   "source": [
    "test_df.head()"
   ]
  },
  {
   "cell_type": "code",
   "execution_count": 213,
   "metadata": {
    "execution": {
     "iopub.execute_input": "2022-12-28T20:28:53.301637Z",
     "iopub.status.busy": "2022-12-28T20:28:53.301146Z",
     "iopub.status.idle": "2022-12-28T20:28:53.704651Z",
     "shell.execute_reply": "2022-12-28T20:28:53.703357Z",
     "shell.execute_reply.started": "2022-12-28T20:28:53.301593Z"
    },
    "scrolled": false
   },
   "outputs": [
    {
     "name": "stdout",
     "output_type": "stream",
     "text": [
      "(7580968, 5)\n",
      "(7580968, 5)\n"
     ]
    }
   ],
   "source": [
    "print(test_df.shape)\n",
    "# if DEBUG:\n",
    "#     sample_session = np.random.choice(test_df['session'].unique(), debug_test_session_num, replace=False)\n",
    "#     test_df = test_df[test_df['session'].isin(sample_session)]\n",
    "print(test_df.shape)"
   ]
  },
  {
   "cell_type": "code",
   "execution_count": 214,
   "metadata": {},
   "outputs": [],
   "source": [
    "assert len(test_df['session'].unique()) == unique_session_num"
   ]
  },
  {
   "cell_type": "markdown",
   "metadata": {},
   "source": [
    "# Save Features -> only carts labels"
   ]
  },
  {
   "cell_type": "code",
   "execution_count": 248,
   "metadata": {},
   "outputs": [],
   "source": [
    "if test_stage1_limit:\n",
    "    def get_all_ground_truth(group):\n",
    "        import itertools\n",
    "        return list(set(itertools.chain(*group['ground_truth'].values)))\n",
    "    from pathlib import Path\n",
    "    import pandas as pd\n",
    "\n",
    "    data_dir = Path('../data/parquet/val_label/')\n",
    "    test_labels = pd.concat(\n",
    "        pd.read_parquet(parquet_file)\n",
    "        for parquet_file in data_dir.glob('*.parquet')\n",
    "    )\n",
    "    combined_test_labels = test_labels.groupby('session').apply(lambda group: get_all_ground_truth(group)).reset_index().rename(\n",
    "        columns={ 0: 'ground_truth'\n",
    "\n",
    "        }\n",
    "    )\n",
    "    test_df = test_df.merge(combined_test_labels[['session', 'ground_truth']], how='left', on='session')\n",
    "    assert test_df.isna().sum().sum() == 0"
   ]
  },
  {
   "cell_type": "code",
   "execution_count": 249,
   "metadata": {},
   "outputs": [
    {
     "data": {
      "text/plain": [
       "session         0\n",
       "aid             0\n",
       "ts              0\n",
       "type            0\n",
       "ground_truth    0\n",
       "dtype: int64"
      ]
     },
     "execution_count": 249,
     "metadata": {},
     "output_type": "execute_result"
    }
   ],
   "source": [
    "test_df.isna().sum()"
   ]
  },
  {
   "cell_type": "code",
   "execution_count": 250,
   "metadata": {
    "scrolled": false
   },
   "outputs": [],
   "source": [
    "feature_df = test_df.sort_values([\"session\", \"ts\"]).groupby([\"session\"]).apply(\n",
    "    lambda x: buys_features(x)\n",
    ")"
   ]
  },
  {
   "cell_type": "code",
   "execution_count": 251,
   "metadata": {},
   "outputs": [
    {
     "data": {
      "text/plain": [
       "session\n",
       "11098528    ([990658, 950341, 1679529, 1462506, 1561739, 9...\n",
       "11098529    ([1105029, 1049489, 459126, 333991, 1307369, 1...\n",
       "11098530    ([409236, 264500, 1603001, 963957, 254154, 752...\n",
       "11098531    ([396199, 1271998, 452188, 1728212, 1365569, 6...\n",
       "11098532    ([1596491, 876469, 7651, 108125, 1159379, 1202...\n",
       "                                  ...                        \n",
       "12899774    ([33035, 1539309, 819288, 95488, 270852, 74397...\n",
       "12899775    ([1743151, 1760714, 1163166, 1255910, 1498443,...\n",
       "12899776    ([1737908, 548599, 695829, 773354, 447841, 144...\n",
       "12899777    ([384045, 1308634, 395762, 1688215, 1486067, 7...\n",
       "12899778    ([561560, 1167224, 32070, 971566, 1068655, 139...\n",
       "Length: 1783737, dtype: object"
      ]
     },
     "execution_count": 251,
     "metadata": {},
     "output_type": "execute_result"
    }
   ],
   "source": [
    "feature_df"
   ]
  },
  {
   "cell_type": "code",
   "execution_count": 252,
   "metadata": {},
   "outputs": [],
   "source": [
    "feature_df = pd.DataFrame(feature_df.add_suffix(\"_carts\"), columns=[\"labels\"]).reset_index()"
   ]
  },
  {
   "cell_type": "code",
   "execution_count": 253,
   "metadata": {
    "scrolled": true
   },
   "outputs": [
    {
     "data": {
      "text/html": [
       "<div>\n",
       "<style scoped>\n",
       "    .dataframe tbody tr th:only-of-type {\n",
       "        vertical-align: middle;\n",
       "    }\n",
       "\n",
       "    .dataframe tbody tr th {\n",
       "        vertical-align: top;\n",
       "    }\n",
       "\n",
       "    .dataframe thead th {\n",
       "        text-align: right;\n",
       "    }\n",
       "</style>\n",
       "<table border=\"1\" class=\"dataframe\">\n",
       "  <thead>\n",
       "    <tr style=\"text-align: right;\">\n",
       "      <th></th>\n",
       "      <th>session</th>\n",
       "      <th>labels</th>\n",
       "    </tr>\n",
       "  </thead>\n",
       "  <tbody>\n",
       "    <tr>\n",
       "      <th>0</th>\n",
       "      <td>11098528_carts</td>\n",
       "      <td>([990658, 950341, 1679529, 1462506, 1561739, 9...</td>\n",
       "    </tr>\n",
       "    <tr>\n",
       "      <th>1</th>\n",
       "      <td>11098529_carts</td>\n",
       "      <td>([1105029, 1049489, 459126, 333991, 1307369, 1...</td>\n",
       "    </tr>\n",
       "    <tr>\n",
       "      <th>2</th>\n",
       "      <td>11098530_carts</td>\n",
       "      <td>([409236, 264500, 1603001, 963957, 254154, 752...</td>\n",
       "    </tr>\n",
       "    <tr>\n",
       "      <th>3</th>\n",
       "      <td>11098531_carts</td>\n",
       "      <td>([396199, 1271998, 452188, 1728212, 1365569, 6...</td>\n",
       "    </tr>\n",
       "    <tr>\n",
       "      <th>4</th>\n",
       "      <td>11098532_carts</td>\n",
       "      <td>([1596491, 876469, 7651, 108125, 1159379, 1202...</td>\n",
       "    </tr>\n",
       "  </tbody>\n",
       "</table>\n",
       "</div>"
      ],
      "text/plain": [
       "          session                                             labels\n",
       "0  11098528_carts  ([990658, 950341, 1679529, 1462506, 1561739, 9...\n",
       "1  11098529_carts  ([1105029, 1049489, 459126, 333991, 1307369, 1...\n",
       "2  11098530_carts  ([409236, 264500, 1603001, 963957, 254154, 752...\n",
       "3  11098531_carts  ([396199, 1271998, 452188, 1728212, 1365569, 6...\n",
       "4  11098532_carts  ([1596491, 876469, 7651, 108125, 1159379, 1202..."
      ]
     },
     "execution_count": 253,
     "metadata": {},
     "output_type": "execute_result"
    }
   ],
   "source": [
    "feature_df.head()"
   ]
  },
  {
   "cell_type": "code",
   "execution_count": 254,
   "metadata": {},
   "outputs": [],
   "source": [
    "add_df = pd.DataFrame(feature_df['labels'].tolist(), index=feature_df.index)[[0, 1, 2, 3]].rename(columns={\n",
    "    0: 'labels',\n",
    "    1: 'type_weight',\n",
    "    2: 'cart_order_num',\n",
    "    3: 'buy_buy_num'\n",
    "})"
   ]
  },
  {
   "cell_type": "code",
   "execution_count": 255,
   "metadata": {},
   "outputs": [],
   "source": [
    "feature_df = feature_df[['session']].merge(add_df, left_index=True, right_index=True)"
   ]
  },
  {
   "cell_type": "code",
   "execution_count": 256,
   "metadata": {},
   "outputs": [
    {
     "data": {
      "text/html": [
       "<div>\n",
       "<style scoped>\n",
       "    .dataframe tbody tr th:only-of-type {\n",
       "        vertical-align: middle;\n",
       "    }\n",
       "\n",
       "    .dataframe tbody tr th {\n",
       "        vertical-align: top;\n",
       "    }\n",
       "\n",
       "    .dataframe thead th {\n",
       "        text-align: right;\n",
       "    }\n",
       "</style>\n",
       "<table border=\"1\" class=\"dataframe\">\n",
       "  <thead>\n",
       "    <tr style=\"text-align: right;\">\n",
       "      <th></th>\n",
       "      <th>session</th>\n",
       "      <th>labels</th>\n",
       "      <th>type_weight</th>\n",
       "      <th>cart_order_num</th>\n",
       "      <th>buy_buy_num</th>\n",
       "    </tr>\n",
       "  </thead>\n",
       "  <tbody>\n",
       "    <tr>\n",
       "      <th>0</th>\n",
       "      <td>11098528_carts</td>\n",
       "      <td>[990658, 950341, 1679529, 1462506, 1561739, 90...</td>\n",
       "      <td>[0, 0, 0, 0, 0, 0, 0, 0, 0, 0, 0, 0.41, 0, 0, ...</td>\n",
       "      <td>[0, 0, 0, 0, 0, 0, 0, 0, 0, 0, 0, 0, 1, 1, 1, ...</td>\n",
       "      <td>[0, 0, 0, 0, 0, 0, 0, 0, 0, 0, 0, 0, 0, 0, 0, ...</td>\n",
       "    </tr>\n",
       "    <tr>\n",
       "      <th>1</th>\n",
       "      <td>11098529_carts</td>\n",
       "      <td>[1105029, 1049489, 459126, 333991, 1307369, 16...</td>\n",
       "      <td>[0.41, 0, 0, 0, 0, 0, 0, 0, 0, 0, 0, 0, 0, 0, ...</td>\n",
       "      <td>[0, 1, 1, 1, 1, 1, 1, 1, 1, 1, 1, 1, 1, 1, 1, ...</td>\n",
       "      <td>[0, 0, 0, 0, 0, 0, 0, 0, 0, 0, 0, 0, 0, 0, 0, ...</td>\n",
       "    </tr>\n",
       "    <tr>\n",
       "      <th>2</th>\n",
       "      <td>11098530_carts</td>\n",
       "      <td>[409236, 264500, 1603001, 963957, 254154, 7523...</td>\n",
       "      <td>[8.23, 0.93, 0, 0, 0, 0, 0, 0, 0, 0, 0, 0, 0, ...</td>\n",
       "      <td>[1, 1, 2, 2, 2, 2, 2, 2, 2, 2, 2, 2, 2, 1, 1, ...</td>\n",
       "      <td>[0, 0, 0, 0, 0, 0, 0, 0, 0, 0, 0, 0, 0, 0, 0, ...</td>\n",
       "    </tr>\n",
       "    <tr>\n",
       "      <th>3</th>\n",
       "      <td>11098531_carts</td>\n",
       "      <td>[396199, 1271998, 452188, 1728212, 1365569, 62...</td>\n",
       "      <td>[4.2, 5.1, 3.72, 4.8, 2.36, 0.77, 0.75, 1.03, ...</td>\n",
       "      <td>[6, 6, 2, 6, 6, 1, 0, 0, 6, 0, 0, 3, 2, 2, 2, ...</td>\n",
       "      <td>[0, 0, 0, 0, 0, 0, 0, 0, 0, 0, 0, 0, 0, 0, 0, ...</td>\n",
       "    </tr>\n",
       "    <tr>\n",
       "      <th>4</th>\n",
       "      <td>11098532_carts</td>\n",
       "      <td>[1596491, 876469, 7651, 108125, 1159379, 12026...</td>\n",
       "      <td>[0, 1.0, 0.41, 0, 0, 0, 0, 0, 0, 0, 0, 0, 0, 0...</td>\n",
       "      <td>[0, 0, 0, 2, 1, 1, 1, 1, 1, 1, 1, 1, 1, 1, 1, ...</td>\n",
       "      <td>[0, 0, 0, 0, 0, 0, 0, 0, 0, 0, 0, 0, 0, 0, 0, ...</td>\n",
       "    </tr>\n",
       "  </tbody>\n",
       "</table>\n",
       "</div>"
      ],
      "text/plain": [
       "          session                                             labels  \\\n",
       "0  11098528_carts  [990658, 950341, 1679529, 1462506, 1561739, 90...   \n",
       "1  11098529_carts  [1105029, 1049489, 459126, 333991, 1307369, 16...   \n",
       "2  11098530_carts  [409236, 264500, 1603001, 963957, 254154, 7523...   \n",
       "3  11098531_carts  [396199, 1271998, 452188, 1728212, 1365569, 62...   \n",
       "4  11098532_carts  [1596491, 876469, 7651, 108125, 1159379, 12026...   \n",
       "\n",
       "                                         type_weight  \\\n",
       "0  [0, 0, 0, 0, 0, 0, 0, 0, 0, 0, 0, 0.41, 0, 0, ...   \n",
       "1  [0.41, 0, 0, 0, 0, 0, 0, 0, 0, 0, 0, 0, 0, 0, ...   \n",
       "2  [8.23, 0.93, 0, 0, 0, 0, 0, 0, 0, 0, 0, 0, 0, ...   \n",
       "3  [4.2, 5.1, 3.72, 4.8, 2.36, 0.77, 0.75, 1.03, ...   \n",
       "4  [0, 1.0, 0.41, 0, 0, 0, 0, 0, 0, 0, 0, 0, 0, 0...   \n",
       "\n",
       "                                      cart_order_num  \\\n",
       "0  [0, 0, 0, 0, 0, 0, 0, 0, 0, 0, 0, 0, 1, 1, 1, ...   \n",
       "1  [0, 1, 1, 1, 1, 1, 1, 1, 1, 1, 1, 1, 1, 1, 1, ...   \n",
       "2  [1, 1, 2, 2, 2, 2, 2, 2, 2, 2, 2, 2, 2, 1, 1, ...   \n",
       "3  [6, 6, 2, 6, 6, 1, 0, 0, 6, 0, 0, 3, 2, 2, 2, ...   \n",
       "4  [0, 0, 0, 2, 1, 1, 1, 1, 1, 1, 1, 1, 1, 1, 1, ...   \n",
       "\n",
       "                                         buy_buy_num  \n",
       "0  [0, 0, 0, 0, 0, 0, 0, 0, 0, 0, 0, 0, 0, 0, 0, ...  \n",
       "1  [0, 0, 0, 0, 0, 0, 0, 0, 0, 0, 0, 0, 0, 0, 0, ...  \n",
       "2  [0, 0, 0, 0, 0, 0, 0, 0, 0, 0, 0, 0, 0, 0, 0, ...  \n",
       "3  [0, 0, 0, 0, 0, 0, 0, 0, 0, 0, 0, 0, 0, 0, 0, ...  \n",
       "4  [0, 0, 0, 0, 0, 0, 0, 0, 0, 0, 0, 0, 0, 0, 0, ...  "
      ]
     },
     "execution_count": 256,
     "metadata": {},
     "output_type": "execute_result"
    }
   ],
   "source": [
    "feature_df.head()"
   ]
  },
  {
   "cell_type": "code",
   "execution_count": 257,
   "metadata": {},
   "outputs": [],
   "source": [
    "for col in ['labels', 'type_weight', 'cart_order_num', 'buy_buy_num']:\n",
    "    feature_df[col] = feature_df[col].apply(lambda x: \" \".join(map(str,x)))"
   ]
  },
  {
   "cell_type": "code",
   "execution_count": 258,
   "metadata": {},
   "outputs": [
    {
     "data": {
      "text/plain": [
       "(1783737, 5)"
      ]
     },
     "execution_count": 258,
     "metadata": {},
     "output_type": "execute_result"
    }
   ],
   "source": [
    "feature_df.shape"
   ]
  },
  {
   "cell_type": "code",
   "execution_count": 259,
   "metadata": {},
   "outputs": [],
   "source": [
    "feature_df = feature_df.rename(columns={'session': 'session_type'})"
   ]
  },
  {
   "cell_type": "code",
   "execution_count": 260,
   "metadata": {},
   "outputs": [
    {
     "data": {
      "text/html": [
       "<div>\n",
       "<style scoped>\n",
       "    .dataframe tbody tr th:only-of-type {\n",
       "        vertical-align: middle;\n",
       "    }\n",
       "\n",
       "    .dataframe tbody tr th {\n",
       "        vertical-align: top;\n",
       "    }\n",
       "\n",
       "    .dataframe thead th {\n",
       "        text-align: right;\n",
       "    }\n",
       "</style>\n",
       "<table border=\"1\" class=\"dataframe\">\n",
       "  <thead>\n",
       "    <tr style=\"text-align: right;\">\n",
       "      <th></th>\n",
       "      <th>session_type</th>\n",
       "      <th>labels</th>\n",
       "      <th>type_weight</th>\n",
       "      <th>cart_order_num</th>\n",
       "      <th>buy_buy_num</th>\n",
       "    </tr>\n",
       "  </thead>\n",
       "  <tbody>\n",
       "    <tr>\n",
       "      <th>0</th>\n",
       "      <td>11098528_carts</td>\n",
       "      <td>990658 950341 1679529 1462506 1561739 907564 3...</td>\n",
       "      <td>0 0 0 0 0 0 0 0 0 0 0 0.41 0 0 0 0 0 0 0 0 0 0...</td>\n",
       "      <td>0 0 0 0 0 0 0 0 0 0 0 0 1 1 1 1 1 1 1 1 1 1 1 ...</td>\n",
       "      <td>0 0 0 0 0 0 0 0 0 0 0 0 0 0 0 0 0 0 0 0 0 0 0 ...</td>\n",
       "    </tr>\n",
       "    <tr>\n",
       "      <th>1</th>\n",
       "      <td>11098529_carts</td>\n",
       "      <td>1105029 1049489 459126 333991 1307369 1632356 ...</td>\n",
       "      <td>0.41 0 0 0 0 0 0 0 0 0 0 0 0 0 0 0 0 0 0 0 0 0...</td>\n",
       "      <td>0 1 1 1 1 1 1 1 1 1 1 1 1 1 1 1 0 0 0 0 0 0 0 ...</td>\n",
       "      <td>0 0 0 0 0 0 0 0 0 0 0 0 0 0 0 0 0 0 0 0 0 0 0 ...</td>\n",
       "    </tr>\n",
       "    <tr>\n",
       "      <th>2</th>\n",
       "      <td>11098530_carts</td>\n",
       "      <td>409236 264500 1603001 963957 254154 752334 364...</td>\n",
       "      <td>8.23 0.93 0 0 0 0 0 0 0 0 0 0 0 0 0 0 0 0 0 0 ...</td>\n",
       "      <td>1 1 2 2 2 2 2 2 2 2 2 2 2 1 1 1 1 1 1 0 0 0 0 ...</td>\n",
       "      <td>0 0 0 0 0 0 0 0 0 0 0 0 0 0 0 0 0 0 0 0 0 0 0 ...</td>\n",
       "    </tr>\n",
       "    <tr>\n",
       "      <th>3</th>\n",
       "      <td>11098531_carts</td>\n",
       "      <td>396199 1271998 452188 1728212 1365569 624163 1...</td>\n",
       "      <td>4.2 5.1 3.72 4.8 2.36 0.77 0.75 1.03 0.55 0.52...</td>\n",
       "      <td>6 6 2 6 6 1 0 0 6 0 0 3 2 2 2 2 2 2 2 2 2 2 1 ...</td>\n",
       "      <td>0 0 0 0 0 0 0 0 0 0 0 0 0 0 0 0 0 0 0 0 0 0 0 ...</td>\n",
       "    </tr>\n",
       "    <tr>\n",
       "      <th>4</th>\n",
       "      <td>11098532_carts</td>\n",
       "      <td>1596491 876469 7651 108125 1159379 1202618 779...</td>\n",
       "      <td>0 1.0 0.41 0 0 0 0 0 0 0 0 0 0 0 0 0 0 0 0 0 0...</td>\n",
       "      <td>0 0 0 2 1 1 1 1 1 1 1 1 1 1 1 1 1 1 1 1 1 1 1 ...</td>\n",
       "      <td>0 0 0 0 0 0 0 0 0 0 0 0 0 0 0 0 0 0 0 0 0 0 0 ...</td>\n",
       "    </tr>\n",
       "  </tbody>\n",
       "</table>\n",
       "</div>"
      ],
      "text/plain": [
       "     session_type                                             labels  \\\n",
       "0  11098528_carts  990658 950341 1679529 1462506 1561739 907564 3...   \n",
       "1  11098529_carts  1105029 1049489 459126 333991 1307369 1632356 ...   \n",
       "2  11098530_carts  409236 264500 1603001 963957 254154 752334 364...   \n",
       "3  11098531_carts  396199 1271998 452188 1728212 1365569 624163 1...   \n",
       "4  11098532_carts  1596491 876469 7651 108125 1159379 1202618 779...   \n",
       "\n",
       "                                         type_weight  \\\n",
       "0  0 0 0 0 0 0 0 0 0 0 0 0.41 0 0 0 0 0 0 0 0 0 0...   \n",
       "1  0.41 0 0 0 0 0 0 0 0 0 0 0 0 0 0 0 0 0 0 0 0 0...   \n",
       "2  8.23 0.93 0 0 0 0 0 0 0 0 0 0 0 0 0 0 0 0 0 0 ...   \n",
       "3  4.2 5.1 3.72 4.8 2.36 0.77 0.75 1.03 0.55 0.52...   \n",
       "4  0 1.0 0.41 0 0 0 0 0 0 0 0 0 0 0 0 0 0 0 0 0 0...   \n",
       "\n",
       "                                      cart_order_num  \\\n",
       "0  0 0 0 0 0 0 0 0 0 0 0 0 1 1 1 1 1 1 1 1 1 1 1 ...   \n",
       "1  0 1 1 1 1 1 1 1 1 1 1 1 1 1 1 1 0 0 0 0 0 0 0 ...   \n",
       "2  1 1 2 2 2 2 2 2 2 2 2 2 2 1 1 1 1 1 1 0 0 0 0 ...   \n",
       "3  6 6 2 6 6 1 0 0 6 0 0 3 2 2 2 2 2 2 2 2 2 2 1 ...   \n",
       "4  0 0 0 2 1 1 1 1 1 1 1 1 1 1 1 1 1 1 1 1 1 1 1 ...   \n",
       "\n",
       "                                         buy_buy_num  \n",
       "0  0 0 0 0 0 0 0 0 0 0 0 0 0 0 0 0 0 0 0 0 0 0 0 ...  \n",
       "1  0 0 0 0 0 0 0 0 0 0 0 0 0 0 0 0 0 0 0 0 0 0 0 ...  \n",
       "2  0 0 0 0 0 0 0 0 0 0 0 0 0 0 0 0 0 0 0 0 0 0 0 ...  \n",
       "3  0 0 0 0 0 0 0 0 0 0 0 0 0 0 0 0 0 0 0 0 0 0 0 ...  \n",
       "4  0 0 0 0 0 0 0 0 0 0 0 0 0 0 0 0 0 0 0 0 0 0 0 ...  "
      ]
     },
     "execution_count": 260,
     "metadata": {},
     "output_type": "execute_result"
    }
   ],
   "source": [
    "feature_df.head()"
   ]
  },
  {
   "cell_type": "code",
   "execution_count": 265,
   "metadata": {},
   "outputs": [
    {
     "data": {
      "text/plain": [
       "'../submission/candidate_for_validation/feature_recnum_40_candidate_v2_train1_data_test_submission.csvtest_stage1_limt'"
      ]
     },
     "execution_count": 265,
     "metadata": {},
     "output_type": "execute_result"
    }
   ],
   "source": [
    "file_path"
   ]
  },
  {
   "cell_type": "code",
   "execution_count": 266,
   "metadata": {},
   "outputs": [
    {
     "name": "stdout",
     "output_type": "stream",
     "text": [
      "../submission/candidate_for_validation/feature_recnum_40_candidate_v2_train1_data_test_submission.csvtest_stage1_limt\r\n"
     ]
    }
   ],
   "source": [
    "! ls {file_path}"
   ]
  },
  {
   "cell_type": "code",
   "execution_count": null,
   "metadata": {},
   "outputs": [],
   "source": [
    "../submission/candidate_for_validation/feature_recnum_40_candidate_v2_train1_data_test_submission.csvtest_stage1_limit"
   ]
  },
  {
   "cell_type": "code",
   "execution_count": 262,
   "metadata": {},
   "outputs": [],
   "source": [
    "feature_df.to_csv(file_path, index=False)"
   ]
  },
  {
   "cell_type": "code",
   "execution_count": 263,
   "metadata": {},
   "outputs": [
    {
     "name": "stdout",
     "output_type": "stream",
     "text": [
      "candidate_v2_test_submission.csv\r\n",
      "candidate_v2_train1_data_test_submission.csv\r\n"
     ]
    }
   ],
   "source": [
    "! ls ../submission/candidate_final_submission"
   ]
  },
  {
   "cell_type": "code",
   "execution_count": 264,
   "metadata": {
    "scrolled": true
   },
   "outputs": [
    {
     "name": "stdout",
     "output_type": "stream",
     "text": [
      "-rw-r--r--@ 1 hua  staff  1014475380 Jan 28 23:29 ../submission/candidate_for_validation/feature_recnum_40_candidate_v2_train1_data_test_submission.csvtest_stage1_limt\r\n"
     ]
    }
   ],
   "source": [
    "! ls -al {file_path}"
   ]
  },
  {
   "cell_type": "code",
   "execution_count": null,
   "metadata": {},
   "outputs": [],
   "source": []
  },
  {
   "cell_type": "code",
   "execution_count": null,
   "metadata": {},
   "outputs": [],
   "source": []
  },
  {
   "cell_type": "code",
   "execution_count": null,
   "metadata": {},
   "outputs": [],
   "source": []
  },
  {
   "cell_type": "code",
   "execution_count": null,
   "metadata": {},
   "outputs": [],
   "source": []
  },
  {
   "cell_type": "code",
   "execution_count": null,
   "metadata": {},
   "outputs": [],
   "source": []
  },
  {
   "cell_type": "code",
   "execution_count": null,
   "metadata": {},
   "outputs": [],
   "source": []
  },
  {
   "cell_type": "code",
   "execution_count": null,
   "metadata": {},
   "outputs": [],
   "source": [
    "file_path"
   ]
  },
  {
   "cell_type": "markdown",
   "metadata": {},
   "source": [
    "# Submission file"
   ]
  },
  {
   "cell_type": "code",
   "execution_count": 43,
   "metadata": {
    "scrolled": true
   },
   "outputs": [
    {
     "data": {
      "text/plain": [
       "'../submission/candidate_for_validation/recnum_40_candidate_v2_train1_data_test_submission.csvtest_stage1_limt'"
      ]
     },
     "execution_count": 43,
     "metadata": {},
     "output_type": "execute_result"
    }
   ],
   "source": [
    "submission_file"
   ]
  },
  {
   "cell_type": "code",
   "execution_count": 44,
   "metadata": {},
   "outputs": [],
   "source": [
    "# ! rm {submission_file}"
   ]
  },
  {
   "cell_type": "code",
   "execution_count": 45,
   "metadata": {
    "_cell_guid": "b1076dfc-b9ad-4769-8c92-a6c4dae69d19",
    "_uuid": "8f2839f25d086af736a60e9eeb907d3b93b6e0e5",
    "execution": {
     "iopub.execute_input": "2022-12-28T20:29:02.114283Z",
     "iopub.status.busy": "2022-12-28T20:29:02.113578Z",
     "iopub.status.idle": "2022-12-28T20:29:02.221883Z",
     "shell.execute_reply": "2022-12-28T20:29:02.220811Z",
     "shell.execute_reply.started": "2022-12-28T20:29:02.114246Z"
    },
    "papermill": {
     "duration": null,
     "end_time": null,
     "exception": null,
     "start_time": null,
     "status": "pending"
    },
    "tags": []
   },
   "outputs": [
    {
     "name": "stdout",
     "output_type": "stream",
     "text": [
      "CPU times: user 1min 24s, sys: 5.67 s, total: 1min 29s\n",
      "Wall time: 1min 32s\n"
     ]
    }
   ],
   "source": [
    "%%time\n",
    "pred_df_clicks = test_df.sort_values([\"session\", \"ts\"]).groupby([\"session\"]).apply(\n",
    "    lambda x: suggest_clicks(x)\n",
    ")"
   ]
  },
  {
   "cell_type": "code",
   "execution_count": 46,
   "metadata": {},
   "outputs": [],
   "source": [
    "pred_df_buys = test_df.sort_values([\"session\", \"ts\"]).groupby([\"session\"]).apply(\n",
    "    lambda x: suggest_buys(x)\n",
    ")"
   ]
  },
  {
   "cell_type": "code",
   "execution_count": 47,
   "metadata": {},
   "outputs": [],
   "source": [
    "assert len(pred_df_clicks.index.unique()) == unique_session_num"
   ]
  },
  {
   "cell_type": "code",
   "execution_count": 48,
   "metadata": {},
   "outputs": [],
   "source": [
    "assert len(pred_df_buys.index.unique()) == unique_session_num"
   ]
  },
  {
   "cell_type": "code",
   "execution_count": null,
   "metadata": {},
   "outputs": [],
   "source": []
  },
  {
   "cell_type": "code",
   "execution_count": 49,
   "metadata": {
    "execution": {
     "iopub.execute_input": "2022-12-28T20:29:35.003623Z",
     "iopub.status.busy": "2022-12-28T20:29:35.002711Z",
     "iopub.status.idle": "2022-12-28T20:29:35.015901Z",
     "shell.execute_reply": "2022-12-28T20:29:35.015023Z",
     "shell.execute_reply.started": "2022-12-28T20:29:35.003577Z"
    },
    "papermill": {
     "duration": null,
     "end_time": null,
     "exception": null,
     "start_time": null,
     "status": "pending"
    },
    "tags": []
   },
   "outputs": [],
   "source": [
    "clicks_pred_df = pd.DataFrame(pred_df_clicks.add_suffix(\"_clicks\"), columns=[\"labels\"]).reset_index()\n",
    "orders_pred_df = pd.DataFrame(pred_df_buys.add_suffix(\"_orders\"), columns=[\"labels\"]).reset_index()\n",
    "carts_pred_df = pd.DataFrame(pred_df_buys.add_suffix(\"_carts\"), columns=[\"labels\"]).reset_index()"
   ]
  },
  {
   "cell_type": "markdown",
   "metadata": {},
   "source": [
    "## get pred_df "
   ]
  },
  {
   "cell_type": "code",
   "execution_count": 110,
   "metadata": {},
   "outputs": [],
   "source": [
    "pred_df = pd.concat([clicks_pred_df, orders_pred_df, carts_pred_df])"
   ]
  },
  {
   "cell_type": "code",
   "execution_count": 111,
   "metadata": {},
   "outputs": [
    {
     "data": {
      "text/plain": [
       "(5351211, 2)"
      ]
     },
     "execution_count": 111,
     "metadata": {},
     "output_type": "execute_result"
    }
   ],
   "source": [
    "pred_df.shape"
   ]
  },
  {
   "cell_type": "code",
   "execution_count": 112,
   "metadata": {
    "scrolled": false
   },
   "outputs": [
    {
     "data": {
      "text/html": [
       "<div>\n",
       "<style scoped>\n",
       "    .dataframe tbody tr th:only-of-type {\n",
       "        vertical-align: middle;\n",
       "    }\n",
       "\n",
       "    .dataframe tbody tr th {\n",
       "        vertical-align: top;\n",
       "    }\n",
       "\n",
       "    .dataframe thead th {\n",
       "        text-align: right;\n",
       "    }\n",
       "</style>\n",
       "<table border=\"1\" class=\"dataframe\">\n",
       "  <thead>\n",
       "    <tr style=\"text-align: right;\">\n",
       "      <th></th>\n",
       "      <th>session</th>\n",
       "      <th>labels</th>\n",
       "    </tr>\n",
       "  </thead>\n",
       "  <tbody>\n",
       "    <tr>\n",
       "      <th>0</th>\n",
       "      <td>11098528_clicks</td>\n",
       "      <td>[11830, 588923, 1732105, 1157882, 571762, 8845...</td>\n",
       "    </tr>\n",
       "    <tr>\n",
       "      <th>1</th>\n",
       "      <td>11098529_clicks</td>\n",
       "      <td>[1105029, 459126, 1049489, 1339838, 1383767, 1...</td>\n",
       "    </tr>\n",
       "    <tr>\n",
       "      <th>2</th>\n",
       "      <td>11098530_clicks</td>\n",
       "      <td>[409236, 264500, 1603001, 963957, 254154, 5830...</td>\n",
       "    </tr>\n",
       "    <tr>\n",
       "      <th>3</th>\n",
       "      <td>11098531_clicks</td>\n",
       "      <td>[396199, 1271998, 452188, 1728212, 1365569, 62...</td>\n",
       "    </tr>\n",
       "    <tr>\n",
       "      <th>4</th>\n",
       "      <td>11098532_clicks</td>\n",
       "      <td>[876469, 7651, 108125, 1159379, 1202618, 77906...</td>\n",
       "    </tr>\n",
       "  </tbody>\n",
       "</table>\n",
       "</div>"
      ],
      "text/plain": [
       "           session                                             labels\n",
       "0  11098528_clicks  [11830, 588923, 1732105, 1157882, 571762, 8845...\n",
       "1  11098529_clicks  [1105029, 459126, 1049489, 1339838, 1383767, 1...\n",
       "2  11098530_clicks  [409236, 264500, 1603001, 963957, 254154, 5830...\n",
       "3  11098531_clicks  [396199, 1271998, 452188, 1728212, 1365569, 62...\n",
       "4  11098532_clicks  [876469, 7651, 108125, 1159379, 1202618, 77906..."
      ]
     },
     "execution_count": 112,
     "metadata": {},
     "output_type": "execute_result"
    }
   ],
   "source": [
    "pred_df.head()"
   ]
  },
  {
   "cell_type": "code",
   "execution_count": 113,
   "metadata": {},
   "outputs": [
    {
     "name": "stdout",
     "output_type": "stream",
     "text": [
      "<class 'pandas.core.frame.DataFrame'>\n",
      "Int64Index: 5351211 entries, 0 to 1783736\n",
      "Data columns (total 2 columns):\n",
      " #   Column   Dtype \n",
      "---  ------   ----- \n",
      " 0   session  object\n",
      " 1   labels   object\n",
      "dtypes: object(2)\n",
      "memory usage: 122.5+ MB\n"
     ]
    }
   ],
   "source": [
    "pred_df.info()"
   ]
  },
  {
   "cell_type": "code",
   "execution_count": 120,
   "metadata": {},
   "outputs": [],
   "source": [
    "if test_stage1_limit:\n",
    "\n",
    "    \n",
    "    def get_session_type(row):\n",
    "        session = str(row['session'])\n",
    "        type_value = row['type']\n",
    "        return session + '_' + type_value\n",
    "    def get_final_label(row):\n",
    "        labels = row['labels']\n",
    "        ground_truth = row['ground_truth']\n",
    "    #     print(ground_truth)\n",
    "    #     print(type(ground_truth))\n",
    "    #     print\n",
    "        if isinstance(ground_truth, float):\n",
    "            return labels\n",
    "        else:\n",
    "    #         print(labels)\n",
    "    #         print(ground_truth)\n",
    "            more_lst = list(set(ground_truth) - set(labels))\n",
    "    #         if len(more_lst)>0 and len(labels)>=40:\n",
    "    #             print(row)\n",
    "            return more_lst + labels\n",
    "\n",
    "\n",
    "    # import polars as pl\n",
    "    # test_label_file = '../data/parquet/val_label/*.parquet'\n",
    "    # test_labels = pd.read_parquet(test_label_file)\n",
    "    from pathlib import Path\n",
    "    import pandas as pd\n",
    "\n",
    "    data_dir = Path('../data/parquet/val_label/')\n",
    "    test_labels = pd.concat(\n",
    "        pd.read_parquet(parquet_file)\n",
    "        for parquet_file in data_dir.glob('*.parquet')\n",
    "    )\n",
    "    test_labels['session_type'] = test_labels.apply(lambda row: get_session_type(row), axis=1)\n",
    "    pred_df = pred_df.merge(test_labels[['session_type', 'ground_truth']], how='left', left_on='session', right_on='session_type')\n",
    "    pred_df['labels'] = pred_df.apply(lambda row: get_final_label(row), axis=1)\n"
   ]
  },
  {
   "cell_type": "code",
   "execution_count": 122,
   "metadata": {},
   "outputs": [
    {
     "data": {
      "text/html": [
       "<div>\n",
       "<style scoped>\n",
       "    .dataframe tbody tr th:only-of-type {\n",
       "        vertical-align: middle;\n",
       "    }\n",
       "\n",
       "    .dataframe tbody tr th {\n",
       "        vertical-align: top;\n",
       "    }\n",
       "\n",
       "    .dataframe thead th {\n",
       "        text-align: right;\n",
       "    }\n",
       "</style>\n",
       "<table border=\"1\" class=\"dataframe\">\n",
       "  <thead>\n",
       "    <tr style=\"text-align: right;\">\n",
       "      <th></th>\n",
       "      <th>session</th>\n",
       "      <th>labels</th>\n",
       "      <th>session_type</th>\n",
       "      <th>ground_truth</th>\n",
       "    </tr>\n",
       "  </thead>\n",
       "  <tbody>\n",
       "    <tr>\n",
       "      <th>4820097</th>\n",
       "      <td>12364546_carts</td>\n",
       "      <td>[1854177, 638324, 197342, 26689, 969261, 12527...</td>\n",
       "      <td>NaN</td>\n",
       "      <td>NaN</td>\n",
       "    </tr>\n",
       "    <tr>\n",
       "      <th>4931870</th>\n",
       "      <td>12477131_carts</td>\n",
       "      <td>[876469, 1159379, 1202618, 77906, 669555, 9702...</td>\n",
       "      <td>NaN</td>\n",
       "      <td>NaN</td>\n",
       "    </tr>\n",
       "    <tr>\n",
       "      <th>451887</th>\n",
       "      <td>11557823_clicks</td>\n",
       "      <td>[1794384, 463233, 1298975, 1063114, 1176161, 8...</td>\n",
       "      <td>11557823_clicks</td>\n",
       "      <td>[1794384]</td>\n",
       "    </tr>\n",
       "    <tr>\n",
       "      <th>2062675</th>\n",
       "      <td>11377941_orders</td>\n",
       "      <td>[259480, 11810, 13493, 158597, 160821, 181302,...</td>\n",
       "      <td>NaN</td>\n",
       "      <td>NaN</td>\n",
       "    </tr>\n",
       "    <tr>\n",
       "      <th>2280090</th>\n",
       "      <td>11603475_orders</td>\n",
       "      <td>[1119142, 1489275, 349016, 624677, 1689819, 89...</td>\n",
       "      <td>NaN</td>\n",
       "      <td>NaN</td>\n",
       "    </tr>\n",
       "    <tr>\n",
       "      <th>4569839</th>\n",
       "      <td>12112609_carts</td>\n",
       "      <td>[861506, 1290509, 1312341, 523700, 849257, 171...</td>\n",
       "      <td>NaN</td>\n",
       "      <td>NaN</td>\n",
       "    </tr>\n",
       "    <tr>\n",
       "      <th>1983408</th>\n",
       "      <td>11298498_orders</td>\n",
       "      <td>[44793, 574728, 1357500, 1016908, 1022050, 406...</td>\n",
       "      <td>NaN</td>\n",
       "      <td>NaN</td>\n",
       "    </tr>\n",
       "    <tr>\n",
       "      <th>2491770</th>\n",
       "      <td>11816730_orders</td>\n",
       "      <td>[305933, 1175442, 1406660, 1155739, 1147608, 7...</td>\n",
       "      <td>NaN</td>\n",
       "      <td>NaN</td>\n",
       "    </tr>\n",
       "    <tr>\n",
       "      <th>3737927</th>\n",
       "      <td>11269221_carts</td>\n",
       "      <td>[799822, 1349048, 1765954, 100247, 701016, 142...</td>\n",
       "      <td>NaN</td>\n",
       "      <td>NaN</td>\n",
       "    </tr>\n",
       "    <tr>\n",
       "      <th>2182585</th>\n",
       "      <td>11502666_orders</td>\n",
       "      <td>[1590709, 1327520, 1229555, 1148482, 956562, 1...</td>\n",
       "      <td>NaN</td>\n",
       "      <td>NaN</td>\n",
       "    </tr>\n",
       "  </tbody>\n",
       "</table>\n",
       "</div>"
      ],
      "text/plain": [
       "                 session                                             labels  \\\n",
       "4820097   12364546_carts  [1854177, 638324, 197342, 26689, 969261, 12527...   \n",
       "4931870   12477131_carts  [876469, 1159379, 1202618, 77906, 669555, 9702...   \n",
       "451887   11557823_clicks  [1794384, 463233, 1298975, 1063114, 1176161, 8...   \n",
       "2062675  11377941_orders  [259480, 11810, 13493, 158597, 160821, 181302,...   \n",
       "2280090  11603475_orders  [1119142, 1489275, 349016, 624677, 1689819, 89...   \n",
       "4569839   12112609_carts  [861506, 1290509, 1312341, 523700, 849257, 171...   \n",
       "1983408  11298498_orders  [44793, 574728, 1357500, 1016908, 1022050, 406...   \n",
       "2491770  11816730_orders  [305933, 1175442, 1406660, 1155739, 1147608, 7...   \n",
       "3737927   11269221_carts  [799822, 1349048, 1765954, 100247, 701016, 142...   \n",
       "2182585  11502666_orders  [1590709, 1327520, 1229555, 1148482, 956562, 1...   \n",
       "\n",
       "            session_type ground_truth  \n",
       "4820097              NaN          NaN  \n",
       "4931870              NaN          NaN  \n",
       "451887   11557823_clicks    [1794384]  \n",
       "2062675              NaN          NaN  \n",
       "2280090              NaN          NaN  \n",
       "4569839              NaN          NaN  \n",
       "1983408              NaN          NaN  \n",
       "2491770              NaN          NaN  \n",
       "3737927              NaN          NaN  \n",
       "2182585              NaN          NaN  "
      ]
     },
     "execution_count": 122,
     "metadata": {},
     "output_type": "execute_result"
    }
   ],
   "source": [
    "pred_df.sample(10)"
   ]
  },
  {
   "cell_type": "code",
   "execution_count": 123,
   "metadata": {},
   "outputs": [],
   "source": [
    "pred_df = pred_df[['session', 'labels']]"
   ]
  },
  {
   "cell_type": "code",
   "execution_count": 124,
   "metadata": {},
   "outputs": [],
   "source": [
    "num_lst = pred_df['labels'].apply(len)"
   ]
  },
  {
   "cell_type": "code",
   "execution_count": 125,
   "metadata": {},
   "outputs": [
    {
     "data": {
      "text/plain": [
       "125"
      ]
     },
     "execution_count": 125,
     "metadata": {},
     "output_type": "execute_result"
    }
   ],
   "source": [
    "max(num_lst)"
   ]
  },
  {
   "cell_type": "code",
   "execution_count": 126,
   "metadata": {},
   "outputs": [
    {
     "data": {
      "text/plain": [
       "count    5.351211e+06\n",
       "mean     4.023317e+01\n",
       "std      6.872194e-01\n",
       "min      4.000000e+01\n",
       "25%      4.000000e+01\n",
       "50%      4.000000e+01\n",
       "75%      4.000000e+01\n",
       "max      1.250000e+02\n",
       "Name: labels, dtype: float64"
      ]
     },
     "execution_count": 126,
     "metadata": {},
     "output_type": "execute_result"
    }
   ],
   "source": [
    "num_lst.describe()"
   ]
  },
  {
   "cell_type": "code",
   "execution_count": 61,
   "metadata": {},
   "outputs": [],
   "source": [
    "# explode_df = pred_df.explode('labels')\n"
   ]
  },
  {
   "cell_type": "code",
   "execution_count": 62,
   "metadata": {},
   "outputs": [],
   "source": [
    "# explode_df.head()"
   ]
  },
  {
   "cell_type": "code",
   "execution_count": 63,
   "metadata": {},
   "outputs": [],
   "source": [
    "# explode_df.shape"
   ]
  },
  {
   "cell_type": "code",
   "execution_count": 64,
   "metadata": {},
   "outputs": [],
   "source": [
    "# def get_session_type(row):\n",
    "#     original_session = row['session']\n",
    "#     session, type_str = original_session.split('_')\n",
    "#     session = int(session)\n",
    "#     type_int = type_labels[type_str]\n",
    "#     return session, type_int"
   ]
  },
  {
   "cell_type": "code",
   "execution_count": 65,
   "metadata": {},
   "outputs": [],
   "source": [
    "# pred_df.to_parquet('../data/candidate_submission.parquet')"
   ]
  },
  {
   "cell_type": "markdown",
   "metadata": {},
   "source": [
    "## Save Submission CSV\n",
    "Inferring test data with Pandas groupby is slow. We need to accelerate the following code."
   ]
  },
  {
   "cell_type": "code",
   "execution_count": 128,
   "metadata": {
    "scrolled": true
   },
   "outputs": [
    {
     "data": {
      "text/plain": [
       "'../submission/candidate_for_validation/'"
      ]
     },
     "execution_count": 128,
     "metadata": {},
     "output_type": "execute_result"
    }
   ],
   "source": [
    "submission_dir"
   ]
  },
  {
   "cell_type": "code",
   "execution_count": 129,
   "metadata": {},
   "outputs": [
    {
     "data": {
      "text/plain": [
       "'../submission/candidate_for_validation/recnum_40_candidate_v2_train1_data_test_submission.csvtest_stage1_limt'"
      ]
     },
     "execution_count": 129,
     "metadata": {},
     "output_type": "execute_result"
    }
   ],
   "source": [
    "submission_file"
   ]
  },
  {
   "cell_type": "code",
   "execution_count": 130,
   "metadata": {
    "scrolled": true
   },
   "outputs": [
    {
     "data": {
      "text/html": [
       "<div>\n",
       "<style scoped>\n",
       "    .dataframe tbody tr th:only-of-type {\n",
       "        vertical-align: middle;\n",
       "    }\n",
       "\n",
       "    .dataframe tbody tr th {\n",
       "        vertical-align: top;\n",
       "    }\n",
       "\n",
       "    .dataframe thead th {\n",
       "        text-align: right;\n",
       "    }\n",
       "</style>\n",
       "<table border=\"1\" class=\"dataframe\">\n",
       "  <thead>\n",
       "    <tr style=\"text-align: right;\">\n",
       "      <th></th>\n",
       "      <th>session</th>\n",
       "      <th>labels</th>\n",
       "    </tr>\n",
       "  </thead>\n",
       "  <tbody>\n",
       "    <tr>\n",
       "      <th>0</th>\n",
       "      <td>11098528_clicks</td>\n",
       "      <td>[1679529, 11830, 588923, 1732105, 1157882, 571...</td>\n",
       "    </tr>\n",
       "    <tr>\n",
       "      <th>1</th>\n",
       "      <td>11098529_clicks</td>\n",
       "      <td>[1105029, 459126, 1049489, 1339838, 1383767, 1...</td>\n",
       "    </tr>\n",
       "    <tr>\n",
       "      <th>2</th>\n",
       "      <td>11098530_clicks</td>\n",
       "      <td>[409236, 264500, 1603001, 963957, 254154, 5830...</td>\n",
       "    </tr>\n",
       "    <tr>\n",
       "      <th>3</th>\n",
       "      <td>11098531_clicks</td>\n",
       "      <td>[396199, 1271998, 452188, 1728212, 1365569, 62...</td>\n",
       "    </tr>\n",
       "    <tr>\n",
       "      <th>4</th>\n",
       "      <td>11098532_clicks</td>\n",
       "      <td>[1596491, 876469, 7651, 108125, 1159379, 12026...</td>\n",
       "    </tr>\n",
       "  </tbody>\n",
       "</table>\n",
       "</div>"
      ],
      "text/plain": [
       "           session                                             labels\n",
       "0  11098528_clicks  [1679529, 11830, 588923, 1732105, 1157882, 571...\n",
       "1  11098529_clicks  [1105029, 459126, 1049489, 1339838, 1383767, 1...\n",
       "2  11098530_clicks  [409236, 264500, 1603001, 963957, 254154, 5830...\n",
       "3  11098531_clicks  [396199, 1271998, 452188, 1728212, 1365569, 62...\n",
       "4  11098532_clicks  [1596491, 876469, 7651, 108125, 1159379, 12026..."
      ]
     },
     "execution_count": 130,
     "metadata": {},
     "output_type": "execute_result"
    }
   ],
   "source": [
    "pred_df.head()"
   ]
  },
  {
   "cell_type": "code",
   "execution_count": 131,
   "metadata": {
    "scrolled": true
   },
   "outputs": [
    {
     "name": "stderr",
     "output_type": "stream",
     "text": [
      "/var/folders/c1/48j859bn141c_7299vlh4zjw0000gn/T/ipykernel_37867/387905741.py:2: SettingWithCopyWarning: \n",
      "A value is trying to be set on a copy of a slice from a DataFrame.\n",
      "Try using .loc[row_indexer,col_indexer] = value instead\n",
      "\n",
      "See the caveats in the documentation: https://pandas.pydata.org/pandas-docs/stable/user_guide/indexing.html#returning-a-view-versus-a-copy\n",
      "  pred_df[\"labels\"] = pred_df.labels.apply(lambda x: \" \".join(map(str,x)))\n"
     ]
    }
   ],
   "source": [
    "pred_df.columns = [\"session_type\", \"labels\"]\n",
    "pred_df[\"labels\"] = pred_df.labels.apply(lambda x: \" \".join(map(str,x)))\n",
    "pred_df.to_csv(submission_file, index=False)\n",
    "# pred_df.head()"
   ]
  },
  {
   "cell_type": "code",
   "execution_count": 132,
   "metadata": {},
   "outputs": [],
   "source": [
    "assert len(pred_df) == unique_session_num*3"
   ]
  },
  {
   "cell_type": "code",
   "execution_count": 133,
   "metadata": {
    "scrolled": true
   },
   "outputs": [
    {
     "data": {
      "text/plain": [
       "'../submission/candidate_for_validation/recnum_40_candidate_v2_train1_data_test_submission.csvtest_stage1_limt'"
      ]
     },
     "execution_count": 133,
     "metadata": {},
     "output_type": "execute_result"
    }
   ],
   "source": [
    "submission_file"
   ]
  },
  {
   "cell_type": "code",
   "execution_count": 72,
   "metadata": {
    "scrolled": true
   },
   "outputs": [],
   "source": [
    "# ! head ../submission/candidate_for_rerank_training/candidate_v2_train1_data_test_submission.csv"
   ]
  },
  {
   "cell_type": "code",
   "execution_count": 73,
   "metadata": {},
   "outputs": [],
   "source": [
    "# ! head {submission_file}"
   ]
  },
  {
   "cell_type": "code",
   "execution_count": null,
   "metadata": {},
   "outputs": [],
   "source": []
  },
  {
   "cell_type": "code",
   "execution_count": null,
   "metadata": {},
   "outputs": [],
   "source": []
  }
 ],
 "metadata": {
  "kernelspec": {
   "display_name": "Python3.9(kaggle_otto)",
   "language": "python",
   "name": "recsys-dataset"
  },
  "language_info": {
   "codemirror_mode": {
    "name": "ipython",
    "version": 3
   },
   "file_extension": ".py",
   "mimetype": "text/x-python",
   "name": "python",
   "nbconvert_exporter": "python",
   "pygments_lexer": "ipython3",
   "version": "3.9.15"
  },
  "toc": {
   "base_numbering": 1,
   "nav_menu": {},
   "number_sections": true,
   "sideBar": true,
   "skip_h1_title": false,
   "title_cell": "Table of Contents",
   "title_sidebar": "Contents",
   "toc_cell": false,
   "toc_position": {
    "height": "calc(100% - 180px)",
    "left": "10px",
    "top": "150px",
    "width": "288px"
   },
   "toc_section_display": true,
   "toc_window_display": false
  }
 },
 "nbformat": 4,
 "nbformat_minor": 4
}
